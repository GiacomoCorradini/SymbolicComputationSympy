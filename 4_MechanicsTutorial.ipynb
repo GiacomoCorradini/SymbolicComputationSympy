{
 "cells": [
  {
   "cell_type": "markdown",
   "id": "ed6f79f3",
   "metadata": {},
   "source": [
    "# Mechanics Package tutorials\n",
    "\n",
    "## Kinematics and Workspace of a 2-Link Planar Manipulator Using Python"
   ]
  },
  {
   "cell_type": "code",
   "execution_count": null,
   "id": "a2c36771",
   "metadata": {},
   "outputs": [],
   "source": [
    "from IPython.display import Image, display\n",
    "display(Image(filename=\"images/2LinkPlanarManipulator.png\"))"
   ]
  },
  {
   "cell_type": "markdown",
   "id": "1d48e479",
   "metadata": {},
   "source": [
    "In the following cells, we will import additional modules and functions as needed for symbolic computation and kinematic analysis, such as `dynamicsymbols`, `Point`, and `ReferenceFrame` from `sympy.physics.mechanics`. \n",
    "\n",
    "These imports will enable us to define symbolic variables, reference frames, and points required for modeling the 2-link planar manipulator."
   ]
  },
  {
   "cell_type": "code",
   "execution_count": null,
   "id": "c8cdc474",
   "metadata": {},
   "outputs": [],
   "source": [
    "from sympy import *\n",
    "from sympy.physics.mechanics import dynamicsymbols, Point, ReferenceFrame"
   ]
  },
  {
   "cell_type": "markdown",
   "id": "9e8b8a0b",
   "metadata": {},
   "source": [
    "Now, we declare the symbols for the link lengths ($l_1$, $l_2$) and joint variables ($\\theta_1$, $\\theta_2$) which will be used for further formulation."
   ]
  },
  {
   "cell_type": "code",
   "execution_count": null,
   "id": "14bf8b9a",
   "metadata": {},
   "outputs": [],
   "source": [
    "l1, l2 = symbols('l1 l2')\n",
    "theta1, theta2 = dynamicsymbols('theta1 theta2')\n",
    "theta1, theta2, l1, l2 "
   ]
  },
  {
   "cell_type": "markdown",
   "id": "485bbdea",
   "metadata": {},
   "source": [
    "**symbols vs dynamicsymbols**\n",
    "\n",
    "| Feature     | `symbols()`                                                            | `dynamicsymbols()`                                                             |\n",
    "| ----------- | ---------------------------------------------------------------------- | ------------------------------------------------------------------------------ |\n",
    "| Purpose     | Create **static symbols** (e.g. link lengths, constants, fixed angles) | Create **time-dependent functions** (e.g. joint angles, positions, velocities) |\n",
    "| Derivatives | Returns 0 for time derivatives                                         | Handles symbolic derivatives with respect to time                              |\n",
    "| Type        | `sympy.Symbol`                                                         | `sympy.Function` subclass                                                      |\n",
    "| Use Case    | Constants: $l_1, m, g, \\theta_0$                                       | Generalized coordinates: $\\theta(t), x(t), q(t)$                               |\n"
   ]
  },
  {
   "cell_type": "markdown",
   "id": "86afb97e",
   "metadata": {},
   "source": [
    "### Kinematics using Sympy Mechanics"
   ]
  },
  {
   "cell_type": "markdown",
   "id": "db83bba5",
   "metadata": {},
   "source": [
    "In the first step, we define the kinematic relationships among the rigid bodies of the 2-link manipulator shown above. We use Sympy's `ReferenceFrame` objects to describe the four frames, define their orientations, and construct vectors within these frames to locate key points. Our objective is to analytically calculate the tip position in the XY (Cartesian) space."
   ]
  },
  {
   "cell_type": "markdown",
   "id": "51f678f6",
   "metadata": {},
   "source": [
    "#### Reference Frames Assigment"
   ]
  },
  {
   "cell_type": "markdown",
   "id": "2a2e6694",
   "metadata": {},
   "source": [
    "These reference frames hold the information that defines how each frame is translted and/or oriented relative to each other. We start by creating four reference frames for each frame in the system."
   ]
  },
  {
   "cell_type": "code",
   "execution_count": null,
   "id": "4e0ccce7",
   "metadata": {},
   "outputs": [],
   "source": [
    "base_frame = ReferenceFrame('B')\n",
    "shoulder_frame = ReferenceFrame('S')\n",
    "elbow_frame = ReferenceFrame('E')\n",
    "hand_frame = ReferenceFrame('H')"
   ]
  },
  {
   "cell_type": "markdown",
   "id": "a848eef7",
   "metadata": {},
   "source": [
    "#### Frame Orientation Definition"
   ]
  },
  {
   "cell_type": "markdown",
   "id": "75de441b",
   "metadata": {},
   "source": [
    "Next, we specify how each reference frame is oriented relative to the others. The two generalized coordinates, $\\theta_1(t)$ and $\\theta_2(t)$, represent the time-varying joint angles at the shoulder and elbow, respectively. The rigid links, with lengths $l_1$ and $l_2$, maintain fixed distances between the joints.\n",
    "\n",
    "The shoulder frame is then oriented by an angle $\\theta_1$ about the base frame's z-axis. Subsequently, the elbow frame is oriented by an angle $\\theta_2$ about the shoulder frame's z-axis, and so on, following the physical structure of the 2-link planar manipulator."
   ]
  },
  {
   "cell_type": "code",
   "execution_count": null,
   "id": "8a474177",
   "metadata": {},
   "outputs": [],
   "source": [
    "shoulder_frame.orient(base_frame, 'Axis', [theta1, base_frame.z])\n",
    "elbow_frame.orient(shoulder_frame, 'Axis', [theta2, shoulder_frame.z])\n",
    "hand_frame.orient(elbow_frame, 'Axis', [0, elbow_frame.z])"
   ]
  },
  {
   "cell_type": "markdown",
   "id": "48103c7f",
   "metadata": {},
   "source": [
    "The `orient` function in Sympy Mechanics is used to define the relative orientation between two reference frames. In the previous code, we used `orient` to specify how each frame (shoulder, elbow, hand) is rotated with respect to its parent frame:\n",
    "\n",
    "- `shoulder_frame.orient(base_frame, 'Axis', [theta1, base_frame.z])` rotates the shoulder frame by angle $\\theta_1$ about the base frame's z-axis.\n",
    "- `elbow_frame.orient(shoulder_frame, 'Axis', [theta2, shoulder_frame.z])` rotates the elbow frame by angle $\\theta_2$ about the shoulder frame's z-axis.\n",
    "- `hand_frame.orient(elbow_frame, 'Axis', [0, elbow_frame.z])` keeps the hand frame aligned with the elbow frame.\n",
    "\n",
    "This approach allows us to model the kinematic chain of the manipulator by chaining these rotations, reflecting the physical joint angles of the robot."
   ]
  },
  {
   "cell_type": "markdown",
   "id": "e401fad8",
   "metadata": {},
   "source": [
    "#### Forward Kinematics"
   ]
  },
  {
   "cell_type": "markdown",
   "id": "7414c55d",
   "metadata": {},
   "source": [
    "To obtain the transformation matrix from the base frame to the hand frame, we use Sympy's `dcm()` (direction cosine matrix) method. This method computes the rotation matrix that describes the orientation of the hand frame relative to the base frame."
   ]
  },
  {
   "cell_type": "code",
   "execution_count": null,
   "id": "f849ee9d",
   "metadata": {},
   "outputs": [],
   "source": [
    "T02 = base_frame.dcm(hand_frame)\n",
    "T02.simplify()"
   ]
  },
  {
   "cell_type": "markdown",
   "id": "7d42c90f",
   "metadata": {},
   "source": [
    "#### Rigid Body Points and Locations"
   ]
  },
  {
   "cell_type": "markdown",
   "id": "60b97c4a",
   "metadata": {},
   "source": [
    "To derive the forward kinematic equations, we need to define the length of each rigid body. We will first define points that locate the joints: base, shoulder, elbow, and hand."
   ]
  },
  {
   "cell_type": "code",
   "execution_count": null,
   "id": "0a98a13d",
   "metadata": {},
   "outputs": [],
   "source": [
    "base = Point('O')\n",
    "shoulder = Point('0')\n",
    "elbow = Point('1')\n",
    "hand = Point('2')"
   ]
  },
  {
   "cell_type": "markdown",
   "id": "6c77605e",
   "metadata": {},
   "source": [
    "Next, we set the positions of each joint using the `Point.set_pos()` method. This method specifies the location of a point relative to a reference point and a displacement vector, allowing us to define the spatial relationships between the base, shoulder, elbow, and hand."
   ]
  },
  {
   "cell_type": "code",
   "execution_count": null,
   "id": "9c8b0f6a",
   "metadata": {},
   "outputs": [],
   "source": [
    "shoulder.set_pos(base, 0 * base_frame.x)\n",
    "elbow.set_pos(shoulder, l1 * shoulder_frame.x)\n",
    "hand.set_pos(elbow, l2 * elbow_frame.x)"
   ]
  },
  {
   "cell_type": "markdown",
   "id": "d5a30305",
   "metadata": {},
   "source": [
    "**Base to Hand Position**"
   ]
  },
  {
   "cell_type": "markdown",
   "id": "04677a28",
   "metadata": {},
   "source": [
    "The following commands calculate the position vector of the hand (end-effector) relative to the base frame. First, the vector from the base to the hand is computed and expressed in the base frame. Then, the x and y components of this position vector are extracted, representing the Cartesian coordinates of the manipulator's tip as functions of the joint angles and link lengths."
   ]
  },
  {
   "cell_type": "code",
   "execution_count": null,
   "id": "8cc06048",
   "metadata": {},
   "outputs": [],
   "source": [
    "pxy = (hand.pos_from(base).express(base_frame)).simplify()\n",
    "pxy"
   ]
  },
  {
   "cell_type": "code",
   "execution_count": null,
   "id": "a03b91e4",
   "metadata": {},
   "outputs": [],
   "source": [
    "# Extract the x and y components of the vector pxy in the base_frame\n",
    "px, py = pxy.dot(base_frame.x), pxy.dot(base_frame.y)\n",
    "px, py"
   ]
  },
  {
   "cell_type": "markdown",
   "id": "0e798544",
   "metadata": {},
   "source": [
    "### Tip Position Evaluation"
   ]
  },
  {
   "cell_type": "markdown",
   "id": "7313cda6",
   "metadata": {},
   "source": [
    "To numerically evaluate the tip (end-effector) position of the manipulator, we use Sympy's `lambdify` function. This function converts the symbolic expressions for $p_x$ and $p_y$ into efficient numerical functions that accept $l_1$, $l_2$, $\\theta_1$, and $\\theta_2$ as input arguments. This allows us to compute the tip position for any given set of link lengths and joint angles, enabling visualization and further analysis."
   ]
  },
  {
   "cell_type": "code",
   "execution_count": null,
   "id": "e745190c",
   "metadata": {},
   "outputs": [],
   "source": [
    "fx = lambdify((l1, l2, theta1, theta2), px, 'numpy')\n",
    "fy = lambdify((l1, l2, theta1, theta2), py, 'numpy')"
   ]
  },
  {
   "cell_type": "code",
   "execution_count": null,
   "id": "d3c1dae6",
   "metadata": {},
   "outputs": [],
   "source": [
    "import matplotlib.pyplot as plt\n",
    "import numpy as np"
   ]
  },
  {
   "cell_type": "code",
   "execution_count": null,
   "id": "0bad96b0",
   "metadata": {},
   "outputs": [],
   "source": [
    "theta1s = np.linspace(np.deg2rad(0), np.deg2rad(360)) # desired range of motion for joint 1\n",
    "theta2s = np.linspace(np.deg2rad(0), np.deg2rad(360)) # desired range of motion for joint 2\n",
    "\n",
    "zx = np.array(fx(15.0, 15.0, theta1s, theta2s))\n",
    "zy = np.array(fy(15.0, 15.0, theta1s, theta2s))\n",
    " \n",
    "fig, ax1 = plt.subplots()\n",
    "ax1.plot(np.rad2deg(theta1s), zx, label = r'$p_x$')\n",
    "ax1.plot(np.rad2deg(theta1s), zy, label = r'$p_y$')\n",
    "ax1.set_xlabel(r'($\\theta_1$, $\\theta_2$) [deg]')\n",
    "ax1.set_ylabel(r' tip position [mm]')\n",
    "plt.legend()\n",
    "plt.grid()"
   ]
  },
  {
   "cell_type": "markdown",
   "id": "c50d0db8",
   "metadata": {},
   "source": [
    "### Workspace Visualization"
   ]
  },
  {
   "cell_type": "markdown",
   "id": "c006bda3",
   "metadata": {},
   "source": [
    "In the next section, we will visualize the workspace of the 2-link planar manipulator. The workspace plot shows all the possible positions that the robot's end-effector (tip) can reach, given the specified ranges of joint angles and link lengths. This analysis helps to understand the robot's reachability and operational area in the Cartesian plane."
   ]
  },
  {
   "cell_type": "code",
   "execution_count": null,
   "id": "fed891d5",
   "metadata": {},
   "outputs": [],
   "source": [
    "theta11 = np.linspace(np.deg2rad(0), np.deg2rad(90))\n",
    "theta22 = np.linspace(np.deg2rad(0), np.deg2rad(360))\n",
    "theta1, theta2 = np.meshgrid(theta11, theta22)"
   ]
  },
  {
   "cell_type": "code",
   "execution_count": null,
   "id": "8afe5a83",
   "metadata": {},
   "outputs": [],
   "source": [
    "px_w = np.array(fx(5.0, 1.0, theta1, theta2))\n",
    "py_w = np.array(fy(5.0, 1.0, theta1, theta2))"
   ]
  },
  {
   "cell_type": "code",
   "execution_count": null,
   "id": "1840c9b8",
   "metadata": {},
   "outputs": [],
   "source": [
    "plt.figure()\n",
    "plt.plot(px_w, py_w)\n",
    "plt.xlabel('$p_x$ [mm]')\n",
    "plt.ylabel('$p_y$ [mm]')\n",
    "plt.title('Workspace of 2-Link Planar Manipulator')\n",
    "plt.axis('equal')\n",
    "plt.grid(True)\n",
    "plt.show()"
   ]
  }
 ],
 "metadata": {
  "kernelspec": {
   "display_name": "SimpyUnitn",
   "language": "python",
   "name": "python3"
  },
  "language_info": {
   "codemirror_mode": {
    "name": "ipython",
    "version": 3
   },
   "file_extension": ".py",
   "mimetype": "text/x-python",
   "name": "python",
   "nbconvert_exporter": "python",
   "pygments_lexer": "ipython3",
   "version": "3.12.11"
  }
 },
 "nbformat": 4,
 "nbformat_minor": 5
}
