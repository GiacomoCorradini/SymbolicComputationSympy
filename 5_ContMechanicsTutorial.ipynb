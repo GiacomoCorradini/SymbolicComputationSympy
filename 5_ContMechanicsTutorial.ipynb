{
 "cells": [
  {
   "cell_type": "markdown",
   "id": "7dcd955f",
   "metadata": {},
   "source": [
    "# Continuum Mechanics Package Tutorials"
   ]
  },
  {
   "cell_type": "code",
   "execution_count": null,
   "id": "9fa48349",
   "metadata": {},
   "outputs": [],
   "source": [
    "from IPython.display import Image, display"
   ]
  },
  {
   "cell_type": "markdown",
   "id": "1da02e89",
   "metadata": {},
   "source": [
    "## Beam\n",
    "\n",
    "Beams are characterized by their length, constraints, cross-sectional second moment of area, and elastic modulus. \n",
    "In SymPy, 2D beam objects are constructed by specifying the following properties:\n",
    "\n",
    "- Length\n",
    "- Elastic Modulus\n",
    "- Second Moment of Area\n",
    "- Variable: A symbol representing the location along the beam’s length. By default, this is set to Symbol(x).\n",
    "- Boundary Conditions\n",
    "    - bc_slope: Boundary conditions for slope.\n",
    "    - bc_deflection: Boundary conditions for deflection.\n",
    "- Load Distribution\n",
    "\n",
    "Once the above are specified, the following methods are used to compute useful information about the loaded beam:\n",
    "\n",
    "- `solve_for_reaction_loads()`\n",
    "- `shear_force()`\n",
    "- `bending_moment()`\n",
    "- `slope()`"
   ]
  },
  {
   "cell_type": "markdown",
   "id": "54121f5d",
   "metadata": {},
   "source": [
    "## Example"
   ]
  },
  {
   "cell_type": "markdown",
   "id": "9cb7e42f",
   "metadata": {},
   "source": [
    "A cantilever beam 9 meters in length has a distributed constant load of 8 kN/m applied downward from the fixed end over a 5 meter distance. A counterclockwise moment of 50 kN-m is applied 5 meters from the fixed end. Lastly, a downward point load of 12 kN is applied at the free end of the beam."
   ]
  },
  {
   "cell_type": "code",
   "execution_count": null,
   "id": "670f6c5f",
   "metadata": {},
   "outputs": [],
   "source": [
    "display(Image(filename=\"images/ContMechanicsExample.png\"))"
   ]
  },
  {
   "cell_type": "code",
   "execution_count": null,
   "id": "bc58f44c",
   "metadata": {},
   "outputs": [],
   "source": [
    "from sympy import *\n",
    "x, y, z = symbols('x y z')"
   ]
  },
  {
   "cell_type": "markdown",
   "id": "05cb9d8b",
   "metadata": {},
   "source": [
    "The beam must be initialized with the length, modulus of elasticity, and the second moment of area. These quantities can be symbols or numbers."
   ]
  },
  {
   "cell_type": "code",
   "execution_count": null,
   "id": "2ad693f2",
   "metadata": {},
   "outputs": [],
   "source": [
    "from sympy.physics.continuum_mechanics.beam import Beam\n",
    "E, I = symbols('E, I')\n",
    "b = Beam(9, E, I)"
   ]
  },
  {
   "cell_type": "markdown",
   "id": "41725c9e",
   "metadata": {},
   "source": [
    "The three loads are applied to the beam using the `apply_load()` method. This method supports point forces, point moments, and polynomial distributed loads of any order, i.e. $c, cx, cx^2, cx^3, ...$"
   ]
  },
  {
   "cell_type": "markdown",
   "id": "2c03cad0",
   "metadata": {},
   "source": [
    "The 12 kN point load is in the negative direction, at the location of 9 meters, and the polynomial order is specified as -1:"
   ]
  },
  {
   "cell_type": "code",
   "execution_count": null,
   "id": "c9aa7437",
   "metadata": {},
   "outputs": [],
   "source": [
    "b.apply_load(12, 9, -1)"
   ]
  },
  {
   "cell_type": "markdown",
   "id": "613713d1",
   "metadata": {},
   "source": [
    "The `load` attribute can then be used to access the loading function in singularity function form:"
   ]
  },
  {
   "cell_type": "code",
   "execution_count": null,
   "id": "bccbf502",
   "metadata": {},
   "outputs": [],
   "source": [
    "b.load"
   ]
  },
  {
   "cell_type": "markdown",
   "id": "2963c2a7",
   "metadata": {},
   "source": [
    "Similarly, the positive moment can be applied with a polynomial order -2:"
   ]
  },
  {
   "cell_type": "code",
   "execution_count": null,
   "id": "f9765591",
   "metadata": {},
   "outputs": [],
   "source": [
    "b.apply_load(50, 5, -2)"
   ]
  },
  {
   "cell_type": "markdown",
   "id": "b02abe90",
   "metadata": {},
   "source": [
    "The distributed load is of order 0 and spans x=0 to x=5:"
   ]
  },
  {
   "cell_type": "code",
   "execution_count": null,
   "id": "f41bc879",
   "metadata": {},
   "outputs": [],
   "source": [
    "b.apply_load(8, 0, 0, end=5)"
   ]
  },
  {
   "cell_type": "markdown",
   "id": "a66558b9",
   "metadata": {},
   "source": [
    "The fixed end imposes two boundary conditions: \n",
    "\n",
    "1) no vertical deflection \n",
    "2) no rotation. \n",
    "\n",
    "These are specified by appending tuples of x values and the corresponding deflection or slope values:"
   ]
  },
  {
   "cell_type": "code",
   "execution_count": null,
   "id": "545ebed6",
   "metadata": {},
   "outputs": [],
   "source": [
    "b.bc_deflection.append((0, 0))\n",
    "b.bc_slope.append((0, 0))"
   ]
  },
  {
   "cell_type": "markdown",
   "id": "97efd833",
   "metadata": {},
   "source": [
    "These boundary conditions introduce an unknown reaction force and moment which need to be applied to the beam to maintain static equilibrium:"
   ]
  },
  {
   "cell_type": "code",
   "execution_count": null,
   "id": "94e3ffbe",
   "metadata": {},
   "outputs": [],
   "source": [
    "R, M = symbols('R, M')\n",
    "b.apply_load(R, 0, -1)\n",
    "b.apply_load(M, 0, -2)\n",
    "b.load"
   ]
  },
  {
   "cell_type": "markdown",
   "id": "a683b129",
   "metadata": {},
   "source": [
    "These two variables can be solved for in terms of the applied loads and the final loading can be displayed:"
   ]
  },
  {
   "cell_type": "code",
   "execution_count": null,
   "id": "9fb3570d",
   "metadata": {},
   "outputs": [],
   "source": [
    "b.solve_for_reaction_loads(R, M)\n",
    "b.reaction_loads"
   ]
  },
  {
   "cell_type": "markdown",
   "id": "ee71f55f",
   "metadata": {},
   "source": [
    "At this point, the beam is fully defined and the internal shear and bending moments are calculated:"
   ]
  },
  {
   "cell_type": "code",
   "execution_count": null,
   "id": "a06a65e2",
   "metadata": {},
   "outputs": [],
   "source": [
    "b.shear_force()"
   ]
  },
  {
   "cell_type": "code",
   "execution_count": null,
   "id": "76623f2b",
   "metadata": {},
   "outputs": [],
   "source": [
    "b.bending_moment()"
   ]
  },
  {
   "cell_type": "markdown",
   "id": "1609e176",
   "metadata": {},
   "source": [
    "These can be visualized by calling the respective plot methods:"
   ]
  },
  {
   "cell_type": "code",
   "execution_count": null,
   "id": "ce60503d",
   "metadata": {},
   "outputs": [],
   "source": [
    "b.plot_shear_force()\n",
    "b.plot_bending_moment()"
   ]
  },
  {
   "cell_type": "markdown",
   "id": "72e92c9c",
   "metadata": {},
   "source": [
    "The beam will deform under load and the slope and deflection can be determined with:"
   ]
  },
  {
   "cell_type": "code",
   "execution_count": null,
   "id": "7c9032c2",
   "metadata": {},
   "outputs": [],
   "source": [
    "b.slope()"
   ]
  },
  {
   "cell_type": "code",
   "execution_count": null,
   "id": "57a50b98",
   "metadata": {},
   "outputs": [],
   "source": [
    "b.deflection()"
   ]
  },
  {
   "cell_type": "code",
   "execution_count": null,
   "id": "09b17faf",
   "metadata": {},
   "outputs": [],
   "source": [
    "b.plot_slope(subs={E: 20E9, I: 3.25E-6})\n",
    "b.plot_deflection(subs={E: 20E9, I: 3.25E-6})"
   ]
  },
  {
   "cell_type": "markdown",
   "id": "07b0887e",
   "metadata": {},
   "source": [
    "All of the plots can be shown in one figure with:"
   ]
  },
  {
   "cell_type": "code",
   "execution_count": null,
   "id": "5aa2b429",
   "metadata": {},
   "outputs": [],
   "source": [
    "b.plot_loading_results(subs={E: 20E9, I: 3.25E-6})"
   ]
  },
  {
   "cell_type": "markdown",
   "id": "f1454938",
   "metadata": {},
   "source": [
    "## Try yourself"
   ]
  },
  {
   "cell_type": "markdown",
   "id": "75f705e5",
   "metadata": {},
   "source": [
    "There is a beam of length 30 meters. A moment of magnitude 120 Nm is applied in the counter-clockwise direction at the end of the beam. A point load of magnitude 8 N is applied from the top of the beam at the starting point. There are two simple supports below the beam. One at the end and another one at a distance of 10 meters from the start. The deflection is restricted at both the supports."
   ]
  },
  {
   "cell_type": "code",
   "execution_count": null,
   "id": "fd8a43ac",
   "metadata": {},
   "outputs": [],
   "source": [
    "display(Image(filename=\"images/ContMechanicsTryYourself.png\"))"
   ]
  },
  {
   "cell_type": "markdown",
   "id": "b82e7022",
   "metadata": {},
   "source": [
    "**Solution:**"
   ]
  },
  {
   "cell_type": "code",
   "execution_count": null,
   "id": "50bebdd1",
   "metadata": {},
   "outputs": [],
   "source": [
    "from sympy.physics.continuum_mechanics.beam import Beam\n",
    "from sympy import symbols\n",
    "\n",
    "E, I = symbols('E, I')\n",
    "b = Beam(30, E, I)\n",
    "\n",
    "b.apply_load(8, 0, -1)\n",
    "b.apply_load(120, 30, -2)\n",
    "\n",
    "R1, R2 = symbols('R1, R2')\n",
    "b.apply_load(R1, 10, -1)\n",
    "b.apply_load(R2, 30, -1)\n",
    "\n",
    "b.bc_deflection.append((10, 0))\n",
    "b.bc_deflection.append((30, 0))\n",
    "\n",
    "b.solve_for_reaction_loads(R1, R2)\n",
    "b.reaction_loads\n",
    "\n",
    "b.shear_force()\n",
    "b.bending_moment()\n",
    "b.slope()\n",
    "b.deflection()"
   ]
  }
 ],
 "metadata": {
  "kernelspec": {
   "display_name": "SimpyUnitn",
   "language": "python",
   "name": "python3"
  },
  "language_info": {
   "codemirror_mode": {
    "name": "ipython",
    "version": 3
   },
   "file_extension": ".py",
   "mimetype": "text/x-python",
   "name": "python",
   "nbconvert_exporter": "python",
   "pygments_lexer": "ipython3",
   "version": "3.12.11"
  }
 },
 "nbformat": 4,
 "nbformat_minor": 5
}
