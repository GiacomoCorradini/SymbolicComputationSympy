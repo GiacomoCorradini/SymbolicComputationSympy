{
 "cells": [
  {
   "cell_type": "markdown",
   "id": "8bd0870d",
   "metadata": {},
   "source": [
    "# Control Package tutorials"
   ]
  },
  {
   "cell_type": "code",
   "execution_count": null,
   "id": "9bc21443",
   "metadata": {},
   "outputs": [],
   "source": [
    "from IPython.display import SVG, display"
   ]
  },
  {
   "cell_type": "markdown",
   "id": "ed354e5d",
   "metadata": {},
   "source": [
    "## Transfer function"
   ]
  },
  {
   "cell_type": "markdown",
   "id": "9a9d389b",
   "metadata": {},
   "source": [
    "Find the Transfer Function of the following Spring-Mass dampering system :"
   ]
  },
  {
   "cell_type": "code",
   "execution_count": null,
   "id": "99657613",
   "metadata": {},
   "outputs": [],
   "source": [
    "display(SVG(filename=\"images/Control_Problems_Q2.svg\"))"
   ]
  },
  {
   "cell_type": "code",
   "execution_count": null,
   "id": "fe12d09a",
   "metadata": {},
   "outputs": [],
   "source": [
    "# Imports\n",
    "from sympy import (\n",
    "    Function, \n",
    "    laplace_transform, laplace_initial_conds, laplace_correspondence,\n",
    "    diff, Symbol, solve\n",
    ")\n",
    "from sympy.physics.control import TransferFunction"
   ]
  },
  {
   "cell_type": "code",
   "execution_count": null,
   "id": "5e618bc6",
   "metadata": {},
   "outputs": [],
   "source": [
    "from sympy.abc import s, t # this is equivalent to s = Symbol('s'), t = Symbol('t')\n",
    "y = Function('y')\n",
    "Y = Function('Y')\n",
    "u = Function('u')\n",
    "U = Function('U')\n",
    "k = Symbol('k') # Spring Constant\n",
    "c = Symbol('c') # Damper\n",
    "m = Symbol('m') # Mass of block"
   ]
  },
  {
   "cell_type": "markdown",
   "id": "84916eba",
   "metadata": {},
   "source": [
    "Given the differential equation, you can use the `laplace_transform` function from SymPy to convert the equation from the time domain to the Laplace domain. The argument `noconds=True` specifies that the Laplace transform should be computed without including terms for initial conditions, resulting in a purely algebraic expression in the Laplace domain. This is useful when you want to analyze the system's behavior without considering specific initial states."
   ]
  },
  {
   "cell_type": "code",
   "execution_count": null,
   "id": "d2d1ba6c",
   "metadata": {},
   "outputs": [],
   "source": [
    "f = m*diff(y(t), t, t) + c*diff(y(t), t) + k*y(t) - u(t)\n",
    "F = laplace_transform(f, t, s, noconds=True)\n",
    "\n",
    "F"
   ]
  },
  {
   "cell_type": "markdown",
   "id": "b9bb718a",
   "metadata": {},
   "source": [
    "Replace time-domain functions with Laplace-domain symbols, so you get an expression entirely in the Laplace domain (algebraic form)."
   ]
  },
  {
   "cell_type": "code",
   "execution_count": null,
   "id": "1138d2fd",
   "metadata": {},
   "outputs": [],
   "source": [
    "F = laplace_correspondence(F, {u: U, y: Y})\n",
    "F"
   ]
  },
  {
   "cell_type": "markdown",
   "id": "00976c8f",
   "metadata": {},
   "source": [
    "Apply initial conditions"
   ]
  },
  {
   "cell_type": "code",
   "execution_count": null,
   "id": "76a57f98",
   "metadata": {},
   "outputs": [],
   "source": [
    "F = laplace_initial_conds(F, t, {y: [0, 0]})\n",
    "F"
   ]
  },
  {
   "cell_type": "markdown",
   "id": "7342cc42",
   "metadata": {},
   "source": [
    "Solve for the Transfer Function Y(s)/U(s)"
   ]
  },
  {
   "cell_type": "code",
   "execution_count": null,
   "id": "8e24818c",
   "metadata": {},
   "outputs": [],
   "source": [
    "t = (solve(F, Y(s))[0])/U(s) # To construct Transfer Function from Y(s) and U(s)\n",
    "print(type(t))\n",
    "t"
   ]
  },
  {
   "cell_type": "code",
   "execution_count": null,
   "id": "d3d0cab0",
   "metadata": {},
   "outputs": [],
   "source": [
    "tf = TransferFunction.from_rational_expression(t, s)\n",
    "print(type(tf))\n",
    "tf"
   ]
  },
  {
   "cell_type": "markdown",
   "id": "f18bc3bd",
   "metadata": {},
   "source": [
    "## Equivalent transfer function of an interconnected system"
   ]
  },
  {
   "cell_type": "code",
   "execution_count": null,
   "id": "526c84d5",
   "metadata": {},
   "outputs": [],
   "source": [
    "display(SVG(filename=\"images/Control_Problems_Q5.svg\"))"
   ]
  },
  {
   "cell_type": "markdown",
   "id": "4239dde3",
   "metadata": {},
   "source": [
    "Given the following transfer functions:\n",
    "\n",
    "$\n",
    "\\begin{align}\n",
    "G1 &= \\frac{1}{10 + s} \\\\\n",
    "G2 &= \\frac{1}{1 + s} \\\\\n",
    "G3 &= \\frac{1 + s^2}{4 + 4s + s^2} \\\\\n",
    "G4 &= \\frac{1 + s}{6 + s} \\\\\n",
    "H1 &= \\frac{1 + s}{2 + s} \\\\\n",
    "H2 &= \\frac{2(6 + s)}{1 + s} \\\\\n",
    "H3 &= 1\n",
    "\\end{align}\n",
    "$\n",
    "\n",
    "Where $s$ is variable of the transfer function in the Laplace domain.\n",
    "\n",
    "Find: \n",
    "1. The equivalent transfer function representing the system given above.\n",
    "2. Pole-Zero of the system."
   ]
  },
  {
   "cell_type": "code",
   "execution_count": null,
   "id": "1b711355",
   "metadata": {},
   "outputs": [],
   "source": [
    "from sympy.abc import s\n",
    "from sympy.physics.control import *"
   ]
  },
  {
   "cell_type": "markdown",
   "id": "57083f85",
   "metadata": {},
   "source": [
    "First, we define the transfer function of each block in the interconnected system. Each block (G1, G2, G3, G4, H1, H2, H3) is represented as a transfer function in the Laplace domain using the variable \\( s \\). This allows us to model the dynamic behavior of each subsystem before combining them to analyze the overall system."
   ]
  },
  {
   "cell_type": "code",
   "execution_count": null,
   "id": "6cfadc3d",
   "metadata": {},
   "outputs": [],
   "source": [
    "G1 = TransferFunction(1, 10 + s, s)\n",
    "G2 = TransferFunction(1, 1 + s, s)\n",
    "G3 = TransferFunction(1 + s**2, 4 + 4*s + s**2, s)\n",
    "G4 = TransferFunction(1 + s, 6 + s, s)\n",
    "H1 = TransferFunction(1 + s, 2 + s, s)\n",
    "H2 = TransferFunction(2*(6 + s), 1 + s, s)\n",
    "H3 = TransferFunction(1, 1, s)\n"
   ]
  },
  {
   "cell_type": "markdown",
   "id": "755a21d2",
   "metadata": {},
   "source": [
    "To analyze the overall system, we start by defining the connections between the individual transfer function blocks using series and feedback interconnections. The `doit()` method in SymPy's control toolbox is used to explicitly compute and simplify the result of these interconnections, reducing composite system objects (like `Series` or `Feedback`) to a single `TransferFunction` that represents the equivalent transfer function of the interconnected system. This step is essential for further analysis, such as finding poles, zeros, or plotting system responses."
   ]
  },
  {
   "cell_type": "code",
   "execution_count": null,
   "id": "46a1b7db",
   "metadata": {},
   "outputs": [],
   "source": [
    "sys1 = Series(G3, G4)\n",
    "sys2 = Feedback(sys1, H1, 1).doit()\n",
    "sys3 = Series(G2, sys2)\n",
    "sys4 = Feedback(sys3, H2).doit()\n",
    "sys5 = Series(G1, sys4)\n",
    "sys6 = Feedback(sys5, H3)\n",
    "sys6"
   ]
  },
  {
   "cell_type": "code",
   "execution_count": null,
   "id": "e74b873f",
   "metadata": {},
   "outputs": [],
   "source": [
    "sys6 = sys6.doit(cancel=True, expand=True)\n",
    "sys6"
   ]
  },
  {
   "cell_type": "code",
   "execution_count": null,
   "id": "9f2f5fa5",
   "metadata": {},
   "outputs": [],
   "source": [
    "pole_zero_plot(sys6)"
   ]
  },
  {
   "cell_type": "markdown",
   "id": "f05e4247",
   "metadata": {},
   "source": [
    "## Mechanics Problems using StateSpace"
   ]
  },
  {
   "cell_type": "markdown",
   "id": "e66a436d",
   "metadata": {},
   "source": [
    "### Problem description: Find the frequency response of the system"
   ]
  },
  {
   "cell_type": "code",
   "execution_count": null,
   "id": "ef6b2c9e",
   "metadata": {},
   "outputs": [],
   "source": [
    "display(SVG(filename=\"images/Mechanics_Problems_Q1.svg\"))"
   ]
  },
  {
   "cell_type": "markdown",
   "id": "923b340e",
   "metadata": {},
   "source": [
    "A spring-mass-damping system can be modeled using a mass (m), a spring with a constant (k), and a damper with a damping coefficient (b). The spring force is proportional to the displacement of the mass, and the damping force is proportional to the velocity of the mass."
   ]
  },
  {
   "cell_type": "markdown",
   "id": "f88ca926",
   "metadata": {},
   "source": [
    "The equation of motion for the mass-spring-damper system is given by:\n",
    "\n",
    "$m * \\ddot{x} + b * \\dot{x} + k x = F(t)$"
   ]
  },
  {
   "cell_type": "markdown",
   "id": "b4787891",
   "metadata": {},
   "source": [
    "where:\n",
    "\n",
    "- $x$ is the displacement of the mass,\n",
    "- $\\dot{x}$ is the velocity of the mass,\n",
    "- $\\ddot{x}$ is the acceleration of the mass,\n",
    "- $F(t)$ is the external force applied to the system."
   ]
  },
  {
   "cell_type": "markdown",
   "id": "02498b54",
   "metadata": {},
   "source": [
    "The state-space can be represented by:\n",
    "\n",
    "$\n",
    "\\begin{align}\n",
    "A = \\begin{bmatrix}\n",
    "0 & 1 \\\\\n",
    "-\\frac{k}{m} & -\\frac{b}{m} \\\\\n",
    "\\end{bmatrix}, \\quad\n",
    "B = \\begin{bmatrix}\n",
    "0 \\\\\n",
    "\\frac{1}{m} \\\\\n",
    "\\end{bmatrix}, \\quad\n",
    "C = \\begin{bmatrix}\n",
    "1 & 0 \\\\\n",
    "\\end{bmatrix}, \\quad\n",
    "D = \\begin{bmatrix}\n",
    "0 \\\\\n",
    "\\end{bmatrix}\n",
    "\\end{align}\n",
    "$\n",
    "\n",
    "$\n",
    "\\begin{align}\n",
    "\\dot{x} &= A x + B F(t) \\\\\n",
    "y &= C x + D F(t)\n",
    "\\end{align}\n",
    "$"
   ]
  },
  {
   "cell_type": "markdown",
   "id": "399a276a",
   "metadata": {},
   "source": [
    "Using SymPy’s Control Systems Toolbox (CST), we can define the state-space representation and convert it to the transfer function."
   ]
  },
  {
   "cell_type": "markdown",
   "id": "0d71effe",
   "metadata": {},
   "source": [
    "### Solution"
   ]
  },
  {
   "cell_type": "code",
   "execution_count": null,
   "id": "f499333c",
   "metadata": {},
   "outputs": [],
   "source": [
    "from sympy import symbols, Matrix\n",
    "from sympy.physics.control import StateSpace, TransferFunction"
   ]
  },
  {
   "cell_type": "markdown",
   "id": "5519c744",
   "metadata": {},
   "source": [
    "Define the variables"
   ]
  },
  {
   "cell_type": "code",
   "execution_count": null,
   "id": "1881e7be",
   "metadata": {},
   "outputs": [],
   "source": [
    "m, k, b = symbols('m k b')"
   ]
  },
  {
   "cell_type": "markdown",
   "id": "a73a2969",
   "metadata": {},
   "source": [
    "Define the state-space matrices"
   ]
  },
  {
   "cell_type": "code",
   "execution_count": null,
   "id": "986b1f39",
   "metadata": {},
   "outputs": [],
   "source": [
    "A = Matrix([[0, 1], [-k/m, -b/m]])\n",
    "B = Matrix([[0], [1/m]])\n",
    "C = Matrix([[1, 0]])\n",
    "D = Matrix([[0]])"
   ]
  },
  {
   "cell_type": "markdown",
   "id": "be7420a2",
   "metadata": {},
   "source": [
    "Create the StateSpace model"
   ]
  },
  {
   "cell_type": "code",
   "execution_count": null,
   "id": "53967c0b",
   "metadata": {},
   "outputs": [],
   "source": [
    "ss = StateSpace(A, B, C, D)\n",
    "ss"
   ]
  },
  {
   "cell_type": "markdown",
   "id": "df7dea41",
   "metadata": {},
   "source": [
    "Converting StateSpace to TransferFunction by rewrite method."
   ]
  },
  {
   "cell_type": "code",
   "execution_count": null,
   "id": "bffe70d9",
   "metadata": {},
   "outputs": [],
   "source": [
    "tf = ss.rewrite(TransferFunction)[0][0]\n",
    "tf"
   ]
  },
  {
   "cell_type": "code",
   "execution_count": null,
   "id": "ed0e0303",
   "metadata": {},
   "outputs": [],
   "source": [
    "tf = TransferFunction(A, B, C, D)"
   ]
  },
  {
   "cell_type": "markdown",
   "id": "431069b3",
   "metadata": {},
   "source": [
    "### Plots"
   ]
  },
  {
   "cell_type": "markdown",
   "id": "c4bf614b",
   "metadata": {},
   "source": [
    "We will visualize the system's characteristics using several standard plots:\n",
    "\n",
    "- **Pole-Zero Plot:** Shows the locations of poles and zeros of the transfer function in the complex plane, providing insight into system stability and response.\n",
    "- **Step Response Plot:** Illustrates how the system responds to a step input, revealing transient and steady-state behavior.\n",
    "- **Bode Magnitude Plot:** Displays the frequency response magnitude, helping analyze how the system amplifies or attenuates signals at different frequencies.\n",
    "- **Bode Phase Plot:** Shows the phase shift introduced by the system across frequencies, important for understanding system dynamics and stability margins."
   ]
  },
  {
   "cell_type": "code",
   "execution_count": null,
   "id": "e7a4ed4e",
   "metadata": {},
   "outputs": [],
   "source": [
    "from sympy.physics.control import (\n",
    "    pole_zero_plot,\n",
    "    step_response_plot,\n",
    "    bode_magnitude_plot,\n",
    "    bode_phase_plot\n",
    ")"
   ]
  },
  {
   "cell_type": "markdown",
   "id": "582231f3",
   "metadata": {},
   "source": [
    "Before using plotting or system response functions, it is necessary to substitute the symbolic parameters ($m$, $b$, $k$) with numerical values. This is because visualization functions require a transfer function with numeric coefficients in order to generate the plots correctly. For example, you can use the `.subs()` method to replace the symbols with specific values, as done in the `tf_num` variable."
   ]
  },
  {
   "cell_type": "code",
   "execution_count": null,
   "id": "0631f9e6",
   "metadata": {},
   "outputs": [],
   "source": [
    "step_response_plot(tf)"
   ]
  },
  {
   "cell_type": "code",
   "execution_count": null,
   "id": "ff9b0546",
   "metadata": {},
   "outputs": [],
   "source": [
    "tf_num = tf.subs({m: 1, b: 2, k: 3})\n",
    "tf_num"
   ]
  },
  {
   "cell_type": "code",
   "execution_count": null,
   "id": "d8a9f0ba",
   "metadata": {},
   "outputs": [],
   "source": [
    "step_response_plot(tf_num)"
   ]
  },
  {
   "cell_type": "code",
   "execution_count": null,
   "id": "473ccca8",
   "metadata": {},
   "outputs": [],
   "source": [
    "pole_zero_plot(tf_num)"
   ]
  },
  {
   "cell_type": "code",
   "execution_count": null,
   "id": "4c49602d",
   "metadata": {},
   "outputs": [],
   "source": [
    "bode_magnitude_plot(tf_num)"
   ]
  },
  {
   "cell_type": "code",
   "execution_count": null,
   "id": "f01b5e1a",
   "metadata": {},
   "outputs": [],
   "source": [
    "bode_phase_plot(tf_num)"
   ]
  }
 ],
 "metadata": {
  "kernelspec": {
   "display_name": "SimpyUnitn",
   "language": "python",
   "name": "python3"
  },
  "language_info": {
   "codemirror_mode": {
    "name": "ipython",
    "version": 3
   },
   "file_extension": ".py",
   "mimetype": "text/x-python",
   "name": "python",
   "nbconvert_exporter": "python",
   "pygments_lexer": "ipython3",
   "version": "3.12.11"
  }
 },
 "nbformat": 4,
 "nbformat_minor": 5
}
