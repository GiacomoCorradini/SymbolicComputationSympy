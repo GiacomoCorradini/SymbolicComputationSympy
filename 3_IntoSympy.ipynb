{
 "cells": [
  {
   "cell_type": "markdown",
   "id": "8338d7f2",
   "metadata": {},
   "source": [
    "# Calculus, Solvers, Matrices in SymPy"
   ]
  },
  {
   "cell_type": "code",
   "execution_count": null,
   "id": "38b61651",
   "metadata": {},
   "outputs": [],
   "source": [
    "from sympy import *\n",
    "x, y, z = symbols('x y z')"
   ]
  },
  {
   "cell_type": "markdown",
   "id": "70adf01e",
   "metadata": {},
   "source": [
    "## 1. Calculus\n",
    "\n",
    "1.1. **Derivatives**  \n",
    "1.2. **Integrals**  \n",
    "1.3. **Numerical integration**  \n",
    "1.4. **Finite differences**"
   ]
  },
  {
   "cell_type": "markdown",
   "id": "10a00561",
   "metadata": {},
   "source": [
    "### 1.1. Derivatives\n",
    "\n",
    "To take derivatives, use the `diff` function."
   ]
  },
  {
   "cell_type": "code",
   "execution_count": null,
   "id": "a753113d",
   "metadata": {},
   "outputs": [],
   "source": [
    "diff(sin(x), x)"
   ]
  },
  {
   "cell_type": "markdown",
   "id": "7309fabf",
   "metadata": {},
   "source": [
    "The derivative of a composite function is calculated by applying the **chain rule**.  \n",
    "If $f(x)$ and $g(x)$ are differentiable functions, the derivative of the composite function $h(x) = f(g(x))$ is:\n",
    "\n",
    "$$\n",
    "h'(x) = f'(g(x)) \\cdot g'(x)\n",
    "$$\n",
    "\n",
    "In other words, you differentiate the outer function $f$ with respect to the argument $g(x)$ and multiply by the derivative of the inner function $g(x)$ with respect to $x$.\n",
    "\n",
    "**Example:**  \n",
    "If $h(x) = \\sin(x^2)$, then:\n",
    "- $f(u) = \\sin(u)$ with $u = g(x) = x^2$\n",
    "- $f'(u) = \\cos(u)$\n",
    "- $g'(x) = 2x$\n",
    "\n",
    "So:\n",
    "$$\n",
    "h'(x) = \\cos(x^2) \\cdot 2x\n",
    "$$"
   ]
  },
  {
   "cell_type": "code",
   "execution_count": null,
   "id": "9993753f",
   "metadata": {},
   "outputs": [],
   "source": [
    "diff(sin(x**2), x)"
   ]
  },
  {
   "cell_type": "markdown",
   "id": "5ac49c68",
   "metadata": {},
   "source": [
    "`diff` can take multiple derivatives at once. To take multiple derivatives, pass the variable as many times as you wish to differentiate, or pass a number after the variable."
   ]
  },
  {
   "cell_type": "code",
   "execution_count": null,
   "id": "531c65f0",
   "metadata": {},
   "outputs": [],
   "source": [
    "diff(x**4, x, x, x)"
   ]
  },
  {
   "cell_type": "code",
   "execution_count": null,
   "id": "bd19f91a",
   "metadata": {},
   "outputs": [],
   "source": [
    "diff(x**4, x, 3)"
   ]
  },
  {
   "cell_type": "markdown",
   "id": "6236744f",
   "metadata": {},
   "source": [
    "You can also take derivatives with respect to many variables at once. Just pass each derivative in order, using the same syntax as for single variable derivatives. \n",
    "\n",
    "For example, each of the following will compute $\\frac{\\partial^7}{\\partial x\\partial y^2\\partial z^4} e^{x y z}$."
   ]
  },
  {
   "cell_type": "code",
   "execution_count": null,
   "id": "b9397806",
   "metadata": {},
   "outputs": [],
   "source": [
    "expr = exp(x*y*z)"
   ]
  },
  {
   "cell_type": "code",
   "execution_count": null,
   "id": "e4d05621",
   "metadata": {},
   "outputs": [],
   "source": [
    "diff(expr, x, y, y, z, z, z, z)"
   ]
  },
  {
   "cell_type": "code",
   "execution_count": null,
   "id": "61d624ce",
   "metadata": {},
   "outputs": [],
   "source": [
    "diff(expr, x, y, 2, z, 4)"
   ]
  },
  {
   "cell_type": "code",
   "execution_count": null,
   "id": "9fbeaa7f",
   "metadata": {},
   "outputs": [],
   "source": [
    "diff(expr, x, y, y, z, z, z, z) - diff(expr, x, y, 2, z, 4)"
   ]
  },
  {
   "cell_type": "markdown",
   "id": "edb6463a",
   "metadata": {},
   "source": [
    "`diff` can also be called as a method. The two ways of calling `diff` are exactly the same, and are provided only for convenience."
   ]
  },
  {
   "cell_type": "code",
   "execution_count": null,
   "id": "ce8c6609",
   "metadata": {},
   "outputs": [],
   "source": [
    "expr.diff(x, y, y, z, 4)"
   ]
  },
  {
   "cell_type": "markdown",
   "id": "86895770",
   "metadata": {},
   "source": [
    "To create an unevaluated derivative, use the `Derivative` class. It has the same syntax as `diff`."
   ]
  },
  {
   "cell_type": "code",
   "execution_count": null,
   "id": "119e0e02",
   "metadata": {},
   "outputs": [],
   "source": [
    "deriv = Derivative(expr, x, y, y, z, 4)\n",
    "deriv"
   ]
  },
  {
   "cell_type": "markdown",
   "id": "d79c2300",
   "metadata": {},
   "source": [
    "To evaluate an unevaluated derivative, use the `doit` method."
   ]
  },
  {
   "cell_type": "code",
   "execution_count": null,
   "id": "6e866d39",
   "metadata": {},
   "outputs": [],
   "source": [
    "deriv.doit()"
   ]
  },
  {
   "cell_type": "code",
   "execution_count": null,
   "id": "a02953b9",
   "metadata": {},
   "outputs": [],
   "source": [
    "deriv.doit() - expr.diff(x, y, y, z, 4)"
   ]
  },
  {
   "cell_type": "markdown",
   "id": "34c3233b",
   "metadata": {},
   "source": [
    "### 1.2. Integrals\n",
    "\n",
    "To compute an integral, use the `integrate` function. There are two kinds of integrals, definite and indefinite. "
   ]
  },
  {
   "cell_type": "code",
   "execution_count": null,
   "id": "f03668c5",
   "metadata": {},
   "outputs": [],
   "source": [
    "integrate(cos(x), x)"
   ]
  },
  {
   "cell_type": "markdown",
   "id": "f789a3af",
   "metadata": {},
   "source": [
    "Note that SymPy does not include the constant of integration. If you want it, you can add one yourself."
   ]
  },
  {
   "cell_type": "markdown",
   "id": "85c913ed",
   "metadata": {},
   "source": [
    "To compute a definite integral, pass the argument `(integration_variable, lower_limit, upper_limit)`."
   ]
  },
  {
   "cell_type": "markdown",
   "id": "a10c861d",
   "metadata": {},
   "source": [
    "For example to compute the following: $\\int_0^{\\infty} e^{-x}\\,dx$"
   ]
  },
  {
   "cell_type": "code",
   "execution_count": null,
   "id": "86d0f9a6",
   "metadata": {},
   "outputs": [],
   "source": [
    "integrate(exp(-x), (x, 0, oo))"
   ]
  },
  {
   "cell_type": "markdown",
   "id": "facb0ac9",
   "metadata": {},
   "source": [
    "As with indefinite integrals, you can pass multiple limit tuples to perform a multiple integral."
   ]
  },
  {
   "cell_type": "markdown",
   "id": "e8d3c3aa",
   "metadata": {},
   "source": [
    "For example to compute the following: $\\int_{-\\infty}^{\\infty}\\int_{-\\infty}^{\\infty} e^{- x^{2} - y^{2}}\\, dx\\, dy$"
   ]
  },
  {
   "cell_type": "code",
   "execution_count": null,
   "id": "7a38b49e",
   "metadata": {},
   "outputs": [],
   "source": [
    "integrate(exp(-x**2 - y**2), (x, -oo, oo), (y, -oo, oo))"
   ]
  },
  {
   "cell_type": "markdown",
   "id": "0376c656",
   "metadata": {},
   "source": [
    "If `integrate` is unable to compute an integral, it returns an unevaluated `Integral` object."
   ]
  },
  {
   "cell_type": "code",
   "execution_count": null,
   "id": "b04d5f0d",
   "metadata": {},
   "outputs": [],
   "source": [
    "expr = integrate(x**x, x)\n",
    "print(expr)\n",
    "\n",
    "expr"
   ]
  },
  {
   "cell_type": "markdown",
   "id": "5ab84dfa",
   "metadata": {},
   "source": [
    "As with `Derivative`, you can create an unevaluated integral using `Integral`. To later evaluate this integral, call `doit`."
   ]
  },
  {
   "cell_type": "code",
   "execution_count": null,
   "id": "0fd8bd6e",
   "metadata": {},
   "outputs": [],
   "source": [
    "expr = Integral(log(x)**2, x)\n",
    "expr"
   ]
  },
  {
   "cell_type": "code",
   "execution_count": null,
   "id": "8a8020d3",
   "metadata": {},
   "outputs": [],
   "source": [
    "expr.doit()"
   ]
  },
  {
   "cell_type": "markdown",
   "id": "c5498ec9",
   "metadata": {},
   "source": [
    "### 1.3. Numerical integration"
   ]
  },
  {
   "cell_type": "markdown",
   "id": "6957d684",
   "metadata": {},
   "source": [
    "Numeric integration is a method employed in mathematical analysis to estimate the definite integral of a function across a simplified range. \n",
    "\n",
    "SymPy not only facilitates symbolic integration but also provides support for numeric integration. It leverages the precision capabilities of the **mpmath** library to enhance the accuracy of numeric integration calculations."
   ]
  },
  {
   "cell_type": "code",
   "execution_count": null,
   "id": "ef8b9727",
   "metadata": {},
   "outputs": [],
   "source": [
    "x = symbols('x')\n",
    "\n",
    "integral = Integral(sqrt(2)*x, (x, 0, 1))\n",
    "integral"
   ]
  },
  {
   "cell_type": "code",
   "execution_count": null,
   "id": "43a50020",
   "metadata": {},
   "outputs": [],
   "source": [
    "integral.evalf()"
   ]
  },
  {
   "cell_type": "markdown",
   "id": "38a7e3a4",
   "metadata": {},
   "source": [
    "To compute the integral with a specified precision:"
   ]
  },
  {
   "cell_type": "code",
   "execution_count": null,
   "id": "0266c636",
   "metadata": {},
   "outputs": [],
   "source": [
    "integral.evalf(50)"
   ]
  },
  {
   "cell_type": "code",
   "execution_count": null,
   "id": "7ba6ec38",
   "metadata": {},
   "outputs": [],
   "source": [
    "integral.doit()"
   ]
  },
  {
   "cell_type": "markdown",
   "id": "29b68e0d",
   "metadata": {},
   "source": [
    "### 1.4. Finite differences\n",
    "\n",
    "So far we have looked at expressions with analytic derivatives and primitive functions respectively. But what if we want to have an expression to estimate a derivative of a curve for which we lack a closed form representation, or for which we don’t know the functional values for yet. One approach would be to use a finite difference approach."
   ]
  },
  {
   "cell_type": "markdown",
   "id": "05fd4e12",
   "metadata": {},
   "source": [
    "The simplest way the differentiate using finite differences is to use the `differentiate_finite` function:"
   ]
  },
  {
   "cell_type": "code",
   "execution_count": null,
   "id": "584eec02",
   "metadata": {},
   "outputs": [],
   "source": [
    "f, g = symbols('f g', cls=Function)\n",
    "differentiate_finite(f(x)*g(x))"
   ]
  },
  {
   "cell_type": "markdown",
   "id": "4e8d103a",
   "metadata": {},
   "source": [
    "If you already have a `Derivative` instance, you can use the `as_finite_difference` method to generate approximations of the derivative to arbitrary order:"
   ]
  },
  {
   "cell_type": "code",
   "execution_count": null,
   "id": "6ff55958",
   "metadata": {},
   "outputs": [],
   "source": [
    "f = Function('f')\n",
    "dfdx = f(x).diff(x)\n",
    "dfdx.as_finite_difference()"
   ]
  },
  {
   "cell_type": "markdown",
   "id": "78553d75",
   "metadata": {},
   "source": [
    "here the first order derivative was approximated around x using a minimum number of points (2 for 1st order derivative) evaluated equidistantly using a step-size of 1. \n",
    "\n",
    "We can use arbitrary steps (possibly containing symbolic expressions):"
   ]
  },
  {
   "cell_type": "code",
   "execution_count": null,
   "id": "b769eb51",
   "metadata": {},
   "outputs": [],
   "source": [
    "f = Function('f')\n",
    "d2fdx2 = f(x).diff(x, 2)\n",
    "h = Symbol('h')\n",
    "d2fdx2.as_finite_difference([-3*h,-h,2*h])"
   ]
  },
  {
   "cell_type": "markdown",
   "id": "5eeab4b2",
   "metadata": {},
   "source": [
    "You can also use `apply_finite_diff` which takes `order`, `x_list`, `y_list` and `x0` as parameters:"
   ]
  },
  {
   "cell_type": "code",
   "execution_count": null,
   "id": "ed56c7b7",
   "metadata": {},
   "outputs": [],
   "source": [
    "x_list = [-3, 1, 2]\n",
    "y_list = symbols('a b c')\n",
    "apply_finite_diff(1, x_list, y_list, 0)"
   ]
  },
  {
   "cell_type": "markdown",
   "id": "6be4248f",
   "metadata": {},
   "source": [
    "## 2. Solvers\n",
    "\n",
    "2.1. **Solving equations algebraically**    \n",
    "2.2. **Solving differential equations**"
   ]
  },
  {
   "cell_type": "markdown",
   "id": "65361b65",
   "metadata": {},
   "source": [
    "Recall that symbolic equations in SymPy are not represented by = or ==, but by `Eq`."
   ]
  },
  {
   "cell_type": "code",
   "execution_count": null,
   "id": "4d4f3c8e",
   "metadata": {},
   "outputs": [],
   "source": [
    "eq1 = Eq(x, y)\n",
    "eq1"
   ]
  },
  {
   "cell_type": "code",
   "execution_count": null,
   "id": "1cd8c1f1",
   "metadata": {},
   "outputs": [],
   "source": [
    "eq2 = Eq(x - y, 0)\n",
    "eq2"
   ]
  },
  {
   "cell_type": "markdown",
   "id": "8e149547",
   "metadata": {},
   "source": [
    "### 2.1. Solving equations algebraically\n",
    "\n",
    "The main function for solving algebraic equations is `solveset`. The syntax for `solveset` is `solveset(equation, variable=None, domain=S.Complexes)` Where equations may be in the form of `Eq` instances or expressions that are assumed to be equal to zero."
   ]
  },
  {
   "cell_type": "markdown",
   "id": "d4ad3072",
   "metadata": {},
   "source": [
    "When solving a single equation, the output of `solveset` is a FiniteSet or an Interval or ImageSet of the solutions."
   ]
  },
  {
   "cell_type": "code",
   "execution_count": null,
   "id": "55b8d41b",
   "metadata": {},
   "outputs": [],
   "source": [
    "solveset(x**2 - x, x)"
   ]
  },
  {
   "cell_type": "code",
   "execution_count": null,
   "id": "9db88a01",
   "metadata": {},
   "outputs": [],
   "source": [
    "solveset(x - x, x, domain=S.Reals)"
   ]
  },
  {
   "cell_type": "code",
   "execution_count": null,
   "id": "7882c636",
   "metadata": {},
   "outputs": [],
   "source": [
    "solveset(sin(x) - 1, x, domain=S.Reals)"
   ]
  },
  {
   "cell_type": "markdown",
   "id": "efe2c66e",
   "metadata": {},
   "source": [
    "#### Linear equations"
   ]
  },
  {
   "cell_type": "markdown",
   "id": "adaa811b",
   "metadata": {},
   "source": [
    "In the `solveset` module, the linear system of equations is solved using `linsolve`."
   ]
  },
  {
   "cell_type": "markdown",
   "id": "f806f9cb",
   "metadata": {},
   "source": [
    "- List of Equations Form:"
   ]
  },
  {
   "cell_type": "code",
   "execution_count": null,
   "id": "dd4c6a64",
   "metadata": {},
   "outputs": [],
   "source": [
    "linsolve([x + y + z - 1, x + y + 2*z - 3 ], (x, y, z))"
   ]
  },
  {
   "cell_type": "markdown",
   "id": "be4a2bf9",
   "metadata": {},
   "source": [
    "- Augmented Matrix Form:"
   ]
  },
  {
   "cell_type": "code",
   "execution_count": null,
   "id": "2e81b7e5",
   "metadata": {},
   "outputs": [],
   "source": [
    "linsolve(Matrix(([1, 1, 1, 1], [1, 1, 2, 3])), (x, y, z))"
   ]
  },
  {
   "cell_type": "markdown",
   "id": "c2b8dc74",
   "metadata": {},
   "source": [
    "- $A*x = b$ Form"
   ]
  },
  {
   "cell_type": "code",
   "execution_count": null,
   "id": "4c616f40",
   "metadata": {},
   "outputs": [],
   "source": [
    "M = Matrix(((1, 1, 1, 1), (1, 1, 2, 3)))\n",
    "A = M[:, :-1]\n",
    "b = M[:, -1]\n",
    "system = A, b\n",
    "linsolve(system, x, y, z)"
   ]
  },
  {
   "cell_type": "markdown",
   "id": "5eabc155",
   "metadata": {},
   "source": [
    "The order of solution corresponds the order of given symbols."
   ]
  },
  {
   "cell_type": "markdown",
   "id": "9b79c943",
   "metadata": {},
   "source": [
    "#### Nonlinear equations"
   ]
  },
  {
   "cell_type": "markdown",
   "id": "f48cfba9",
   "metadata": {},
   "source": [
    "In the solveset module, the non linear system of equations is solved using `nonlinsolve`."
   ]
  },
  {
   "cell_type": "markdown",
   "id": "378907dc",
   "metadata": {},
   "source": [
    "- When only real solution is present:"
   ]
  },
  {
   "cell_type": "code",
   "execution_count": null,
   "id": "8c60cf96",
   "metadata": {},
   "outputs": [],
   "source": [
    "a, b, c, d = symbols('a, b, c, d', real=True)\n",
    "nonlinsolve([x*y - 1, x - 2], x, y)"
   ]
  },
  {
   "cell_type": "markdown",
   "id": "7caccc78",
   "metadata": {},
   "source": [
    "- When only complex solution is present:"
   ]
  },
  {
   "cell_type": "code",
   "execution_count": null,
   "id": "22683991",
   "metadata": {},
   "outputs": [],
   "source": [
    "nonlinsolve([x**2 + 1, y**2 + 1], [x, y])"
   ]
  },
  {
   "cell_type": "markdown",
   "id": "53eb8ba2",
   "metadata": {},
   "source": [
    "- When both real and complex solution are present:"
   ]
  },
  {
   "cell_type": "code",
   "execution_count": null,
   "id": "3fe4c5b8",
   "metadata": {},
   "outputs": [],
   "source": [
    "system = [x**2 - 2*y**2 -2, x*y - 2]\n",
    "vars = [x, y]\n",
    "nonlinsolve(system, vars)"
   ]
  },
  {
   "cell_type": "markdown",
   "id": "8e553527",
   "metadata": {},
   "source": [
    "### 2.2. Solving differential equations\n",
    "\n",
    "To solve differential equations, use `dsolve`. First, create an undefined function by passing `cls=Function` to the `symbols` function."
   ]
  },
  {
   "cell_type": "code",
   "execution_count": null,
   "id": "1636ac44",
   "metadata": {},
   "outputs": [],
   "source": [
    "f, g = symbols('f g', cls=Function)\n",
    "\n",
    "f(x)"
   ]
  },
  {
   "cell_type": "markdown",
   "id": "34701d55",
   "metadata": {},
   "source": [
    "Derivatives of f(x) are unevaluated."
   ]
  },
  {
   "cell_type": "code",
   "execution_count": null,
   "id": "d788b95e",
   "metadata": {},
   "outputs": [],
   "source": [
    "f(x).diff(x)"
   ]
  },
  {
   "cell_type": "markdown",
   "id": "ab1b1ea7",
   "metadata": {},
   "source": [
    "To represent the differential equation $\\ddot{f}(x) - 2\\dot{f}(x) + f(x) = \\sin(x) $, we would thus use"
   ]
  },
  {
   "cell_type": "code",
   "execution_count": null,
   "id": "38d4a97c",
   "metadata": {},
   "outputs": [],
   "source": [
    "diffeq = Eq(f(x).diff(x, x) - 2*f(x).diff(x) + f(x), sin(x))\n",
    "diffeq"
   ]
  },
  {
   "cell_type": "markdown",
   "id": "fe1ec773",
   "metadata": {},
   "source": [
    "To solve the ODE, pass it and the function to solve for to `dsolve`."
   ]
  },
  {
   "cell_type": "code",
   "execution_count": null,
   "id": "b682702a",
   "metadata": {},
   "outputs": [],
   "source": [
    "dsolve(diffeq, f(x))"
   ]
  },
  {
   "cell_type": "markdown",
   "id": "5da9b9bf",
   "metadata": {},
   "source": [
    "## 3. Matrices\n",
    "\n",
    "3.1. **Creating matrices**  \n",
    "3.2. **Basic operations**  \n",
    "3.3. **Basic Methods**  "
   ]
  },
  {
   "cell_type": "markdown",
   "id": "d813c8a8",
   "metadata": {},
   "source": [
    "### 3.1. Creating matrices"
   ]
  },
  {
   "cell_type": "markdown",
   "id": "bbefbe99",
   "metadata": {},
   "source": [
    "To make a matrix in SymPy, use the `Matrix` object. A matrix is constructed by providing a list of row vectors that make up the matrix. \n",
    "\n",
    "For example, to construct the matrix\n",
    "\n",
    "$\n",
    "\\begin{bmatrix}\n",
    "1 & -1 \\\\\n",
    "3 & 4 \\\\\n",
    "0 & 2\n",
    "\\end{bmatrix}\n",
    "$"
   ]
  },
  {
   "cell_type": "code",
   "execution_count": null,
   "id": "fd083eb4",
   "metadata": {},
   "outputs": [],
   "source": [
    "Matrix([[1, -1], [3, 4], [0, 2]])"
   ]
  },
  {
   "cell_type": "markdown",
   "id": "9b34cb1e",
   "metadata": {},
   "source": [
    "To make it easy to make column vectors, a list of elements is considered to be a column vector."
   ]
  },
  {
   "cell_type": "code",
   "execution_count": null,
   "id": "b8c683c4",
   "metadata": {},
   "outputs": [],
   "source": [
    "Matrix([1, 2, 3])"
   ]
  },
  {
   "cell_type": "markdown",
   "id": "42890202",
   "metadata": {},
   "source": [
    "### 3.2. Basic Operations"
   ]
  },
  {
   "cell_type": "markdown",
   "id": "198ad4b1",
   "metadata": {},
   "source": [
    "To get the shape of a matrix, use `shape` function."
   ]
  },
  {
   "cell_type": "code",
   "execution_count": null,
   "id": "dd98131e",
   "metadata": {},
   "outputs": [],
   "source": [
    "M = Matrix([[1, 2, 3], [-2, 0, 4]])\n",
    "\n",
    "shape(M)"
   ]
  },
  {
   "cell_type": "markdown",
   "id": "90a20c55",
   "metadata": {},
   "source": [
    "To get an individual row or column of a matrix, use `row` or `col`."
   ]
  },
  {
   "cell_type": "code",
   "execution_count": null,
   "id": "db1ed91a",
   "metadata": {},
   "outputs": [],
   "source": [
    "M.row(0)"
   ]
  },
  {
   "cell_type": "code",
   "execution_count": null,
   "id": "a514c4c7",
   "metadata": {},
   "outputs": [],
   "source": [
    "M.col(-1)"
   ]
  },
  {
   "cell_type": "markdown",
   "id": "99b12ced",
   "metadata": {},
   "source": [
    "### 3.3. Basic Methods"
   ]
  },
  {
   "cell_type": "code",
   "execution_count": null,
   "id": "6754aa9f",
   "metadata": {},
   "outputs": [],
   "source": [
    "M = Matrix([[1, 3], [-2, 3]])\n",
    "N = Matrix([[0, 3], [0, 7]])"
   ]
  },
  {
   "cell_type": "markdown",
   "id": "f7681299",
   "metadata": {},
   "source": [
    "As noted above, simple operations like addition, multiplication and power are done just by using `+`, `*`, and `**`."
   ]
  },
  {
   "cell_type": "code",
   "execution_count": null,
   "id": "744fd5b4",
   "metadata": {},
   "outputs": [],
   "source": [
    "M + N"
   ]
  },
  {
   "cell_type": "code",
   "execution_count": null,
   "id": "cae01836",
   "metadata": {},
   "outputs": [],
   "source": [
    "M*N"
   ]
  },
  {
   "cell_type": "code",
   "execution_count": null,
   "id": "c6d091a7",
   "metadata": {},
   "outputs": [],
   "source": [
    "3*M"
   ]
  },
  {
   "cell_type": "code",
   "execution_count": null,
   "id": "8fee87ff",
   "metadata": {},
   "outputs": [],
   "source": [
    "M**2"
   ]
  },
  {
   "cell_type": "markdown",
   "id": "13d77a59",
   "metadata": {},
   "source": [
    "To find the inverse of a matrix, just raise it to the `-1` power."
   ]
  },
  {
   "cell_type": "code",
   "execution_count": null,
   "id": "3688f59b",
   "metadata": {},
   "outputs": [],
   "source": [
    "M**-1"
   ]
  },
  {
   "cell_type": "code",
   "execution_count": null,
   "id": "8c8a2655",
   "metadata": {},
   "outputs": [],
   "source": [
    "N**-1"
   ]
  },
  {
   "cell_type": "markdown",
   "id": "4e347277",
   "metadata": {},
   "source": [
    "To take the transpose of a Matrix, use `T`."
   ]
  },
  {
   "cell_type": "code",
   "execution_count": null,
   "id": "0773fdcb",
   "metadata": {},
   "outputs": [],
   "source": [
    "M = Matrix([[1, 2, 3], [4, 5, 6]])\n",
    "M"
   ]
  },
  {
   "cell_type": "code",
   "execution_count": null,
   "id": "785c3075",
   "metadata": {},
   "outputs": [],
   "source": [
    "M.T"
   ]
  }
 ],
 "metadata": {
  "kernelspec": {
   "display_name": "SimpyUnitn",
   "language": "python",
   "name": "python3"
  },
  "language_info": {
   "codemirror_mode": {
    "name": "ipython",
    "version": 3
   },
   "file_extension": ".py",
   "mimetype": "text/x-python",
   "name": "python",
   "nbconvert_exporter": "python",
   "pygments_lexer": "ipython3",
   "version": "3.12.11"
  }
 },
 "nbformat": 4,
 "nbformat_minor": 5
}
