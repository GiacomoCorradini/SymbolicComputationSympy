{
 "cells": [
  {
   "cell_type": "markdown",
   "id": "39713aad",
   "metadata": {},
   "source": [
    "# SymPy Basics\n",
    "\n",
    "1. **Symbols**\n",
    "2. **Equals signs**\n",
    "3. **Substitution**\n",
    "4. **evalf**\n",
    "5. **lambdify**\n",
    "6. **simplify**\n",
    "7. **expand**\n",
    "8. **collect**"
   ]
  },
  {
   "cell_type": "markdown",
   "id": "a3eac3d6",
   "metadata": {},
   "source": [
    "## 1. Symbols"
   ]
  },
  {
   "cell_type": "markdown",
   "id": "ffdb5c4d",
   "metadata": {},
   "source": [
    "Load the SymPy library"
   ]
  },
  {
   "cell_type": "code",
   "execution_count": null,
   "id": "1d2fb5ac",
   "metadata": {},
   "outputs": [],
   "source": [
    "from sympy import *"
   ]
  },
  {
   "cell_type": "markdown",
   "id": "aa045cc4",
   "metadata": {},
   "source": [
    "Now, suppose we start to do a computation."
   ]
  },
  {
   "cell_type": "code",
   "execution_count": null,
   "id": "3d195250",
   "metadata": {},
   "outputs": [],
   "source": [
    "x + 1"
   ]
  },
  {
   "cell_type": "markdown",
   "id": "41e4e75e",
   "metadata": {},
   "source": [
    "What happened here? We tried to use the variable x, but it tells us that x is not defined. In Python, variables have no meaning until they are defined. SymPy is no different. Unlike many symbolic manipulation systems you may have used, in SymPy, variables are not defined automatically. To define variables, we must use `symbols`."
   ]
  },
  {
   "cell_type": "code",
   "execution_count": null,
   "id": "c784ca3f",
   "metadata": {},
   "outputs": [],
   "source": [
    "x = symbols('x')\n",
    "x + 1"
   ]
  },
  {
   "cell_type": "markdown",
   "id": "3b1cbe97",
   "metadata": {},
   "source": [
    "`symbols` takes a string of variable names separated by spaces or commas, and creates Symbols out of them. We can then assign these to variable names."
   ]
  },
  {
   "cell_type": "code",
   "execution_count": null,
   "id": "505436c2",
   "metadata": {},
   "outputs": [],
   "source": [
    "x, y, z = symbols('x y z')"
   ]
  },
  {
   "cell_type": "markdown",
   "id": "0bbcdf1c",
   "metadata": {},
   "source": [
    "Finally, let us be sure we understand the difference between SymPy Symbols and Python\n",
    "variables. Consider the following:"
   ]
  },
  {
   "cell_type": "code",
   "execution_count": null,
   "id": "1639a3ee",
   "metadata": {},
   "outputs": [],
   "source": [
    "x = symbols('x')\n",
    "expr = x + 1\n",
    "x = 2"
   ]
  },
  {
   "cell_type": "markdown",
   "id": "b53b5242",
   "metadata": {},
   "source": [
    "What do you think the output of this code will be? If you thought 3, you’re wrong. Let’s see\n",
    "what really happens"
   ]
  },
  {
   "cell_type": "code",
   "execution_count": null,
   "id": "eb338a0c",
   "metadata": {},
   "outputs": [],
   "source": [
    "print(expr)"
   ]
  },
  {
   "cell_type": "markdown",
   "id": "0fa8921f",
   "metadata": {},
   "source": [
    "Changing x to 2 had no effect on expr. This is because `x = 2` changes the Python variable x to 2, but has no effect on the SymPy Symbol x, which was what we used in creating expr.\n",
    "\n",
    "When we created expr, the Python variable x was a Symbol. After we created, it, we changed the Python variable x to 2. But expr remains the same. All Python programs work this way."
   ]
  },
  {
   "cell_type": "code",
   "execution_count": null,
   "id": "a1150114",
   "metadata": {},
   "outputs": [],
   "source": [
    "expr = x + 1\n",
    "print(expr)"
   ]
  },
  {
   "cell_type": "code",
   "execution_count": null,
   "id": "ac9b4497",
   "metadata": {},
   "outputs": [],
   "source": [
    "x = 'abc'\n",
    "\n",
    "expr = x + 'def'\n",
    "print('1) ', expr)\n",
    "\n",
    "x = 'ABC'\n",
    "print('2) ', expr)\n",
    "\n",
    "expr = x + 'def'\n",
    "print('3) ', expr)"
   ]
  },
  {
   "cell_type": "markdown",
   "id": "62f88351",
   "metadata": {},
   "source": [
    "## 2. Equals signs\n",
    "\n",
    "In SymPy, the equals sign `=` works exactly as it does in Python: it is used for variable assignment, not for expressing mathematical equality."
   ]
  },
  {
   "cell_type": "markdown",
   "id": "0e514534",
   "metadata": {},
   "source": [
    "You may think, however, that `==`, which is used for equality testing in Python, is used for SymPy as equality. \n",
    "\n",
    "This is not quite correct either. Let us see what happens when we use `==`."
   ]
  },
  {
   "cell_type": "code",
   "execution_count": null,
   "id": "061ee8d9",
   "metadata": {},
   "outputs": [],
   "source": [
    "x = symbols('x')\n",
    "x + 1 == 4"
   ]
  },
  {
   "cell_type": "markdown",
   "id": "04abd7d0",
   "metadata": {},
   "source": [
    "Instead of treating `x + 1 == 4` symbolically, we just got False. In SymPy, `==` represents exact symbolic equality testing. This means that `a == b` means that we are asking if \\(a = b\\). We always get a bool as the result of `==`.\n",
    "\n",
    "There is a separate object, called Eq, which can be used to create symbolic equalities"
   ]
  },
  {
   "cell_type": "code",
   "execution_count": null,
   "id": "b12a04cf",
   "metadata": {},
   "outputs": [],
   "source": [
    "Eq(x + 1, 4)"
   ]
  },
  {
   "cell_type": "markdown",
   "id": "17524890",
   "metadata": {},
   "source": [
    "There is one additional caveat about `==` as well. Suppose we want to know if $(x + 1)^2 = x^2 + 2x + 1$. "
   ]
  },
  {
   "cell_type": "code",
   "execution_count": null,
   "id": "2148657f",
   "metadata": {},
   "outputs": [],
   "source": [
    "(x + 1)**2 == x**2 + 2*x + 1"
   ]
  },
  {
   "cell_type": "markdown",
   "id": "1b67a5e8",
   "metadata": {},
   "source": [
    "We got False again. However, $((x + 1)^2)$ does equal $(x^2 + 2x + 1)$."
   ]
  },
  {
   "cell_type": "markdown",
   "id": "57d84657",
   "metadata": {},
   "source": [
    "Recall from above that `==` represents exact symbolic equality testing. “Exact” here means that two symbolic expressions will compare equal with `==` only if they are exactly equal symbolically. \n",
    "\n",
    "Here, $((x + 1)^2)$ and $(x^2 + 2x + 1)$ are not the same symbolically. One is the power of an addition of two terms, and the other is the addition of three terms."
   ]
  },
  {
   "cell_type": "markdown",
   "id": "1f64956a",
   "metadata": {},
   "source": [
    "To test if two things are equal, it is best to recall the basic fact that if \\(a = b\\), then \\(a - b = 0\\). Thus, the best way to check if \\(a = b\\) is to take \\(a - b\\) and simplify it, and see if it goes to 0. \n",
    "\n",
    "We will learn later that the function used for this purpose is called simplify. While simplify is very effective for many common expressions, it is important to note that, in general, it is theoretically impossible to determine whether two symbolic expressions are identically equal in all cases. However, for most practical purposes, simplify works quite well."
   ]
  },
  {
   "cell_type": "code",
   "execution_count": null,
   "id": "edfea31d",
   "metadata": {},
   "outputs": [],
   "source": [
    "a = (x + 1)**2\n",
    "b = x**2 + 2*x + 1\n",
    "simplify(a - b)"
   ]
  },
  {
   "cell_type": "code",
   "execution_count": null,
   "id": "1d2f9a46",
   "metadata": {},
   "outputs": [],
   "source": [
    "c = x**2 - 2*x + 1\n",
    "simplify(a - c)"
   ]
  },
  {
   "cell_type": "markdown",
   "id": "a4045ad2",
   "metadata": {},
   "source": [
    "## 3. Substitution\n",
    "\n",
    "Substitution replaces all instances of something in an expression with something else. It is done using the `subs` method."
   ]
  },
  {
   "cell_type": "code",
   "execution_count": null,
   "id": "22e0ce02",
   "metadata": {},
   "outputs": [],
   "source": [
    "from sympy import *\n",
    "x, y, z = symbols(\"x y z\")\n",
    "\n",
    "expr = cos(x) + 1\n",
    "expr.subs(x, y)"
   ]
  },
  {
   "cell_type": "markdown",
   "id": "efa61c05",
   "metadata": {},
   "source": [
    "Substitution is usually done for one of two reasons:\n",
    "\n",
    "1) Evaluating an expression at a point. For example, if our expression is $cos(x) + 1$ and we want to evaluate it at the point $x = 0$, so that we get $cos(0) + 1$, which is 2."
   ]
  },
  {
   "cell_type": "code",
   "execution_count": null,
   "id": "311ae18e",
   "metadata": {},
   "outputs": [],
   "source": [
    "expr.subs(x, 0)"
   ]
  },
  {
   "cell_type": "markdown",
   "id": "fcc8aa23",
   "metadata": {},
   "source": [
    "2) Replacing a subexpression with another subexpression. There are two reasons we might want to do this. The first is if we are trying to build an expression that has some symmetry, such as $(x^{x^{x^x}})$. \n",
    "To build this, we might start with $x**y$, and replace $y$ with $x**y$. We would then get $x**(x**y)$. If we replaced $y$ in this new expression with $x**x$, we would get $x**(x**(x**x))$, the desired expression."
   ]
  },
  {
   "cell_type": "code",
   "execution_count": null,
   "id": "dc79f481",
   "metadata": {},
   "outputs": [],
   "source": [
    "expr = x**y\n",
    "print(expr)\n",
    "\n",
    "expr = expr.subs(y, x**y)\n",
    "print(expr)\n",
    "\n",
    "expr = expr.subs(y, x**x)\n",
    "print(expr)"
   ]
  },
  {
   "cell_type": "markdown",
   "id": "f346d19c",
   "metadata": {},
   "source": [
    "There are two important things to note about subs. First, it returns a new expression. **SymPy objects are immutable**. That means that subs does modify it in-place."
   ]
  },
  {
   "cell_type": "code",
   "execution_count": null,
   "id": "e510a53b",
   "metadata": {},
   "outputs": [],
   "source": [
    "expr = cos(x)\n",
    "expr.subs(x, 0)"
   ]
  },
  {
   "cell_type": "code",
   "execution_count": null,
   "id": "ac9462c9",
   "metadata": {},
   "outputs": [],
   "source": [
    "expr"
   ]
  },
  {
   "cell_type": "code",
   "execution_count": null,
   "id": "c7575c0b",
   "metadata": {},
   "outputs": [],
   "source": [
    "x"
   ]
  },
  {
   "cell_type": "markdown",
   "id": "42327d1d",
   "metadata": {},
   "source": [
    "To perform multiple substitutions at once, pass a list of (old, new) pairs to `subs`."
   ]
  },
  {
   "cell_type": "code",
   "execution_count": null,
   "id": "b812c31b",
   "metadata": {},
   "outputs": [],
   "source": [
    "expr = x**3 + 4*x*y - z\n",
    "expr.subs([(x, 2), (y, 4), (z, 0)])"
   ]
  },
  {
   "cell_type": "markdown",
   "id": "a1cf8376",
   "metadata": {},
   "source": [
    "## 4. evalf\n",
    "\n",
    "To evaluate a numerical expression into a floating point number, use `evalf`."
   ]
  },
  {
   "cell_type": "code",
   "execution_count": null,
   "id": "4039ca59",
   "metadata": {},
   "outputs": [],
   "source": [
    "expr = sqrt(8)\n",
    "expr.evalf()"
   ]
  },
  {
   "cell_type": "markdown",
   "id": "1f4eb98c",
   "metadata": {},
   "source": [
    "SymPy can evaluate floating point expressions to arbitrary precision. By default, 15 digits of precision are used, but you can pass any number as the argument to `evalf`. Let’s compute the first 100 digits of $(\\pi)$."
   ]
  },
  {
   "cell_type": "code",
   "execution_count": null,
   "id": "a4f6936c",
   "metadata": {},
   "outputs": [],
   "source": [
    "pi.evalf()"
   ]
  },
  {
   "cell_type": "code",
   "execution_count": null,
   "id": "f2f18a07",
   "metadata": {},
   "outputs": [],
   "source": [
    "pi.evalf(100)"
   ]
  },
  {
   "cell_type": "markdown",
   "id": "20156c97",
   "metadata": {},
   "source": [
    "To numerically evaluate an expression with a Symbol at a point, we might use subs followed by `evalf`:"
   ]
  },
  {
   "cell_type": "code",
   "execution_count": null,
   "id": "d56298e3",
   "metadata": {},
   "outputs": [],
   "source": [
    "expr = cos(2*x)\n",
    "\n",
    "expr.subs(x, 2.4).evalf()"
   ]
  },
  {
   "cell_type": "markdown",
   "id": "f454c868",
   "metadata": {},
   "source": [
    "But it is more efficient and numerically stable to pass the substitution to evalf using the subs flag, which takes a dictionary of Symbol: point pairs."
   ]
  },
  {
   "cell_type": "code",
   "execution_count": null,
   "id": "9a7e0d22",
   "metadata": {},
   "outputs": [],
   "source": [
    "expr.evalf(subs = {x: 2.4})"
   ]
  },
  {
   "cell_type": "markdown",
   "id": "c666ba3e",
   "metadata": {},
   "source": [
    "## 5. lambdify\n",
    "\n",
    "`subs` and `evalf` are good if you want to do simple evaluation, but if you intend to evaluate an expression at many points, there are more efficient ways. \n",
    "\n",
    "For example, if you wanted to evaluate an expression at a thousand points, using SymPy would be far slower than it needs to be, especially if you only care about machine precision. \n",
    "Instead, you should use libraries like NumPy and SciPy.\n",
    "\n",
    "The easiest way to convert a SymPy expression to an expression that can be numerically evaluated is to use the `lambdify` function. \n",
    "`lambdify` acts like a lambda function, except it converts the SymPy names to the names of the given numerical library, usually NumPy."
   ]
  },
  {
   "cell_type": "code",
   "execution_count": null,
   "id": "d07d4dbf",
   "metadata": {},
   "outputs": [],
   "source": [
    "import numpy\n",
    "\n",
    "a = numpy.linspace(0, 2 * numpy.pi, 20)\n",
    "\n",
    "print(\"Evaluating expression at points in array:\")\n",
    "print(a)\n",
    "\n",
    "x = symbols('x')\n",
    "expr = sin(x)\n",
    "\n",
    "f = lambdify(x, expr, \"numpy\")\n",
    "results_numpy = f(a)\n",
    "\n",
    "print(\"Results using NumPy:\")\n",
    "print(results_numpy)"
   ]
  },
  {
   "cell_type": "markdown",
   "id": "e3ddd30e",
   "metadata": {},
   "source": [
    "You can use other libraries than **NumPy**. For example, to use the standard library **math** module, use \"math\"."
   ]
  },
  {
   "cell_type": "code",
   "execution_count": null,
   "id": "e5268f83",
   "metadata": {},
   "outputs": [],
   "source": [
    "f = lambdify(x, expr, \"math\")\n",
    "f(a)"
   ]
  },
  {
   "cell_type": "markdown",
   "id": "df83a39a",
   "metadata": {
    "vscode": {
     "languageId": "markdown"
    }
   },
   "source": [
    "When using the standard library math with `lambdify`, the generated function only accepts scalar values, not arrays."
   ]
  },
  {
   "cell_type": "code",
   "execution_count": null,
   "id": "6e478bcc",
   "metadata": {},
   "outputs": [],
   "source": [
    "f(0.1)"
   ]
  },
  {
   "cell_type": "markdown",
   "id": "f77eec2d",
   "metadata": {},
   "source": [
    "To evaluate the same expression using the standard library math module with `lambdify`, you need to use a for loop, since the generated function only accepts scalar values, not arrays.\n",
    "\n",
    "This approach evaluates the function at each point in the array individually."
   ]
  },
  {
   "cell_type": "code",
   "execution_count": null,
   "id": "ac1e8772",
   "metadata": {},
   "outputs": [],
   "source": [
    "results_math = []\n",
    "for val in a:\n",
    "    results_math.append(f(val))\n",
    "\n",
    "print(\"Results using math:\")\n",
    "print(results_math)"
   ]
  },
  {
   "cell_type": "markdown",
   "id": "f810ac27",
   "metadata": {},
   "source": [
    "We can compare the two sets of results, `results_numpy` and `results_math`, to verify that both approaches produce the same values for evaluating the expression at multiple points. This helps ensure consistency between vectorized and scalar evaluations."
   ]
  },
  {
   "cell_type": "code",
   "execution_count": null,
   "id": "a984b5e5",
   "metadata": {},
   "outputs": [],
   "source": [
    "import matplotlib.pyplot as plt\n",
    "\n",
    "fig = plt.figure(figsize=(10, 5))\n",
    "plt.plot(a, results_math, label='results_math', marker='o')\n",
    "plt.plot(a, results_numpy, label='results_numpy', marker='x')\n",
    "plt.legend()\n",
    "plt.title('Comparison of between math and NumPy evaluations')\n",
    "plt.xlabel('x')\n",
    "plt.ylabel('sin(x)')\n",
    "plt.show()"
   ]
  },
  {
   "cell_type": "markdown",
   "id": "6f387a5b",
   "metadata": {},
   "source": [
    "## 6. simplify\n",
    "\n",
    "One of the most useful features of a symbolic manipulation system is the ability to simplify mathematical expressions. SymPy provides a function called `simplify` that can be used to simplify expressions."
   ]
  },
  {
   "cell_type": "code",
   "execution_count": null,
   "id": "d3ef5dc1",
   "metadata": {},
   "outputs": [],
   "source": [
    "x = symbols('x')\n",
    "\n",
    "# example 1\n",
    "expr1 = sin(x)**2 + cos(x)**2\n",
    "print(\"Simplify function:\")\n",
    "print(f\"simplify({expr1}) = {simplify(expr1)}\")\n",
    "\n",
    "# example 2\n",
    "expr2 = (x**3 + x**2 - x - 1)/(x**2 + 2*x + 1)\n",
    "print(f\"simplify({expr2}) = {simplify(expr2)}\")\n"
   ]
  },
  {
   "cell_type": "markdown",
   "id": "c1ec7250",
   "metadata": {},
   "source": [
    "## 7. expand\n",
    "\n",
    "Given a polynomial, `expand` will put it into a canonical form of a sum of monomials."
   ]
  },
  {
   "cell_type": "code",
   "execution_count": null,
   "id": "f4327c45",
   "metadata": {},
   "outputs": [],
   "source": [
    "expand((x + 1)**2)"
   ]
  },
  {
   "cell_type": "code",
   "execution_count": null,
   "id": "732513a5",
   "metadata": {},
   "outputs": [],
   "source": [
    "expand((x + 2)*(x - 3))"
   ]
  },
  {
   "cell_type": "code",
   "execution_count": null,
   "id": "1b1bf530",
   "metadata": {},
   "outputs": [],
   "source": [
    "expand((x + 1)*(x - 2) - (x - 1)*x)"
   ]
  },
  {
   "cell_type": "markdown",
   "id": "2e02ee5b",
   "metadata": {},
   "source": [
    "## 8. collect\n",
    "\n",
    "`collect` collects common powers of a term in an expression."
   ]
  },
  {
   "cell_type": "code",
   "execution_count": null,
   "id": "446c1a9e",
   "metadata": {},
   "outputs": [],
   "source": [
    "expr = x*y + x - 3 + 2*x**2 - z*x**2 + x**3\n",
    "expr"
   ]
  },
  {
   "cell_type": "code",
   "execution_count": null,
   "id": "b4a529c4",
   "metadata": {},
   "outputs": [],
   "source": [
    "collected_expr = collect(expr, x)\n",
    "collected_expr"
   ]
  },
  {
   "cell_type": "markdown",
   "id": "651acc13",
   "metadata": {},
   "source": [
    "`collect` is particularly useful in conjunction with the `.coeff` method. \n",
    "\n",
    "`expr.coeff(x, n)` gives the coefficient of `x**n` in `expr`:"
   ]
  },
  {
   "cell_type": "code",
   "execution_count": null,
   "id": "dbe9e263",
   "metadata": {},
   "outputs": [],
   "source": [
    "collected_expr.coeff(x, 2)"
   ]
  }
 ],
 "metadata": {
  "kernelspec": {
   "display_name": "SimpyUnitn",
   "language": "python",
   "name": "python3"
  },
  "language_info": {
   "codemirror_mode": {
    "name": "ipython",
    "version": 3
   },
   "file_extension": ".py",
   "mimetype": "text/x-python",
   "name": "python",
   "nbconvert_exporter": "python",
   "pygments_lexer": "ipython3",
   "version": "3.12.11"
  }
 },
 "nbformat": 4,
 "nbformat_minor": 5
}
