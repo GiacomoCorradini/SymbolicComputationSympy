{
 "cells": [
  {
   "cell_type": "markdown",
   "id": "0b567c46",
   "metadata": {},
   "source": [
    "# Symbolic computation in Python: an introduction to SymPy"
   ]
  },
  {
   "cell_type": "markdown",
   "id": "5ea9e768",
   "metadata": {},
   "source": [
    "## How to Use Python\n",
    "\n",
    "### Option A – Google Colab (Recommended for Beginners)\n",
    "1. Visit [Google Colab](https://colab.research.google.com)\n",
    "2. Click on “New Notebook”\n",
    "3. Write code in a cell and press ▶️ or Shift + Enter to run it\n",
    "\n",
    "**Advantages:**\n",
    "- No installation required\n",
    "- Automatic saving\n",
    "- Built-in support for libraries and plotting\n",
    "\n",
    "---\n",
    "\n",
    "### Option B – Local Installation (Optional)\n",
    "- **Windows:** Download and install Python from [python.org](https://www.python.org/) or the Microsoft Store\n",
    "- **macOS:** Open Terminal and type `python`. If not installed, run `brew install python`\n",
    "- **Linux:** Python 3 is usually pre-installed; use `python` in the terminal\n",
    "\n",
    "Choose the option that best fits your needs!"
   ]
  },
  {
   "cell_type": "markdown",
   "id": "e6420ab8",
   "metadata": {},
   "source": [
    "## Quick introduction to python\n",
    "\n",
    "1. **Variables and data types**\n",
    "2. **Base operations**\n",
    "3. **Conditional statements**\n",
    "4. **Loops: for/while**\n",
    "5. **Lists**\n",
    "6. **Operation with the math and numpy libraries**\n",
    "7. **Basic plotting with matplotlib**"
   ]
  },
  {
   "cell_type": "markdown",
   "id": "2ca3d1ef",
   "metadata": {},
   "source": [
    "### 1. Variables and Data Types"
   ]
  },
  {
   "cell_type": "code",
   "execution_count": null,
   "id": "4552f4c8",
   "metadata": {},
   "outputs": [],
   "source": [
    "integer = 10                 # int\n",
    "decimal = 3.14               # float\n",
    "text = \"Python is beautiful\" # string\n",
    "true_false = True            # bool\n",
    "\n",
    "print(integer, type(integer))\n",
    "print(decimal, type(decimal))\n",
    "print(text, type(text))\n",
    "print(true_false, type(true_false))"
   ]
  },
  {
   "cell_type": "markdown",
   "id": "0bdd6ad2",
   "metadata": {},
   "source": [
    "### 2. Base operations"
   ]
  },
  {
   "cell_type": "markdown",
   "id": "ca58e4e0",
   "metadata": {},
   "source": [
    "#### Numerical Operations"
   ]
  },
  {
   "cell_type": "code",
   "execution_count": null,
   "id": "4ff4c75c",
   "metadata": {},
   "outputs": [],
   "source": [
    "a, b = 5, 2\n",
    "\n",
    "print(a + b)   # 7\n",
    "print(a - b)   # 3\n",
    "print(a * b)   # 10\n",
    "print(a / b)   # 2.5 (float)\n",
    "print(a // b)  # 2 (int)\n",
    "print(a % b)   # 1 (modulo)\n",
    "print(a ** b)  # 25 (potenza)"
   ]
  },
  {
   "cell_type": "markdown",
   "id": "c466735d",
   "metadata": {},
   "source": [
    "#### String operations"
   ]
  },
  {
   "cell_type": "code",
   "execution_count": null,
   "id": "51f1617c",
   "metadata": {},
   "outputs": [],
   "source": [
    "nome = \"Python\"\n",
    "print(nome * 3)           # PythonPythonPython\n",
    "print(nome + \" 3.12\")     # Python 3.12\n",
    "print(len(nome))          # 6"
   ]
  },
  {
   "cell_type": "markdown",
   "id": "8e2521b3",
   "metadata": {},
   "source": [
    "### 3. Conditionals (if/else)"
   ]
  },
  {
   "cell_type": "code",
   "execution_count": null,
   "id": "62b07758",
   "metadata": {},
   "outputs": [],
   "source": [
    "x, y = 10, 5\n",
    "if x > y:\n",
    "    print(\"x is greater than y\")\n",
    "elif x == y:\n",
    "    print(\"x is equal to y\")\n",
    "else:\n",
    "    print(\"x is less than y\")\n"
   ]
  },
  {
   "cell_type": "markdown",
   "id": "3510fa0f",
   "metadata": {},
   "source": [
    "### 4. Loops: for/while"
   ]
  },
  {
   "cell_type": "markdown",
   "id": "52c18114",
   "metadata": {},
   "source": [
    "#### For loop"
   ]
  },
  {
   "cell_type": "code",
   "execution_count": null,
   "id": "90a28eab",
   "metadata": {},
   "outputs": [],
   "source": [
    "for i in range(1, 6):\n",
    "    print(\"i vale:\", i)"
   ]
  },
  {
   "cell_type": "markdown",
   "id": "19bebd97",
   "metadata": {},
   "source": [
    "#### While loop"
   ]
  },
  {
   "cell_type": "code",
   "execution_count": null,
   "id": "aa254c08",
   "metadata": {},
   "outputs": [],
   "source": [
    "count = 0\n",
    "while count < 3:\n",
    "    print(\"count:\", count)\n",
    "    count += 1\n"
   ]
  },
  {
   "cell_type": "markdown",
   "id": "19b1bb28",
   "metadata": {},
   "source": [
    "### 5. Lists"
   ]
  },
  {
   "cell_type": "code",
   "execution_count": null,
   "id": "f3de85d2",
   "metadata": {},
   "outputs": [],
   "source": [
    "numeri = [4, 7, 15, 23]\n",
    "print(numeri[2])        # 15\n",
    "print(len(numeri))      # 4\n",
    "\n",
    "numeri.append(42)\n",
    "print(numeri)\n",
    "\n",
    "for n in numeri:\n",
    "    print(\"Numero:\", n)\n"
   ]
  },
  {
   "cell_type": "markdown",
   "id": "9008cd88",
   "metadata": {},
   "source": [
    "### 6. Operations with the math and numpy libraries"
   ]
  },
  {
   "cell_type": "markdown",
   "id": "a20fbd25",
   "metadata": {},
   "source": [
    "**math – basic mathematical functions**"
   ]
  },
  {
   "cell_type": "code",
   "execution_count": null,
   "id": "21472c84",
   "metadata": {},
   "outputs": [],
   "source": [
    "import math\n",
    "\n",
    "print(math.sqrt(16))      # square root → 4.0\n",
    "print(math.sin(math.pi/2))# sine of 90° → 1.0\n",
    "print(math.factorial(5))  # factorial of 5 → 120\n",
    "print(math.log(10))       # natural logarithm"
   ]
  },
  {
   "cell_type": "markdown",
   "id": "70bd44d9",
   "metadata": {},
   "source": [
    "**numpy – operations with arrays**"
   ]
  },
  {
   "cell_type": "code",
   "execution_count": null,
   "id": "d2e5960c",
   "metadata": {},
   "outputs": [],
   "source": [
    "import numpy as np\n",
    "\n",
    "arr = np.array([1, 2, 3, 4])  # create a numpy array\n",
    "print(\"Array: \", arr)         # print the array\n",
    "\n",
    "print(\"Array * 2: \", arr * 2) # print the array multiplied by 2\n",
    "\n",
    "arr2 = np.array([10, 20, 30, 40])  # create a second numpy array\n",
    "print(\"Array 2: \", arr2)           # print the second array\n",
    "\n",
    "print(\"Array + Array 2: \", arr + arr2)  # print the element-wise sum of the two arrays\n",
    "\n",
    "arr_np = np.arange(0, 10, 1)\n",
    "print(\"Printing numbers from 0 to 9: \", arr_np)"
   ]
  },
  {
   "cell_type": "markdown",
   "id": "d4d37a13",
   "metadata": {},
   "source": [
    "### 7. Basic plotting with matplotlib"
   ]
  },
  {
   "cell_type": "code",
   "execution_count": null,
   "id": "4f351410",
   "metadata": {},
   "outputs": [],
   "source": [
    "import matplotlib.pyplot as plt\n",
    "import numpy as np\n",
    "\n",
    "x = np.linspace(0, 2 * np.pi, 100)\n",
    "y = np.sin(x)\n",
    "\n",
    "fig = plt.figure(figsize=(10, 5))\n",
    "plt.plot(x, y)\n",
    "plt.title(\"Plot of y = sin(x)\")\n",
    "plt.xlabel(\"x\")\n",
    "plt.ylabel(\"sin(x)\")\n",
    "plt.grid(True)\n",
    "plt.show()\n"
   ]
  },
  {
   "cell_type": "markdown",
   "id": "6a6f6446",
   "metadata": {},
   "source": [
    "## Introduction to Symbolic Computation with [SymPy](https://docs.sympy.org/latest/index.html#)"
   ]
  },
  {
   "cell_type": "markdown",
   "id": "ddc899f9",
   "metadata": {},
   "source": [
    "### Install SymPy\n",
    "The official recommend method of installing Python packages from PyPi is via pip, with the\n",
    "most basic command being:\n",
    "```bash\n",
    "pip install sympy\n",
    "```"
   ]
  },
  {
   "cell_type": "markdown",
   "id": "e91f15ee",
   "metadata": {},
   "source": [
    "#### Check installtion\n",
    "\n",
    "Import the `sympy` library and check the installation by printing the version number."
   ]
  },
  {
   "cell_type": "code",
   "execution_count": null,
   "id": "74774fb7",
   "metadata": {},
   "outputs": [],
   "source": [
    "import sympy\n",
    "print(sympy.__version__)"
   ]
  },
  {
   "cell_type": "markdown",
   "id": "812f2baa",
   "metadata": {},
   "source": [
    "### What is Symbolic Computation?\n",
    "\n",
    "Symbolic computation deals with the computation of mathematical objects symbolically. This means that the mathematical objects are represented exactly, not approximately, and mathematical expressions with unevaluated variables are left in symbolic form."
   ]
  },
  {
   "cell_type": "code",
   "execution_count": null,
   "id": "f6b68d27",
   "metadata": {},
   "outputs": [],
   "source": [
    "import math\n",
    "math.sqrt(9)"
   ]
  },
  {
   "cell_type": "markdown",
   "id": "0ba9b007",
   "metadata": {},
   "source": [
    "9 is a perfect square, so we got the exact answer, 3. But suppose we computed the square root of a number that isn’t a perfect square"
   ]
  },
  {
   "cell_type": "code",
   "execution_count": null,
   "id": "25a6037e",
   "metadata": {},
   "outputs": [],
   "source": [
    "math.sqrt(8)"
   ]
  },
  {
   "cell_type": "markdown",
   "id": "011ca22e",
   "metadata": {},
   "source": [
    "Here we got an approximate result. 2.82842712475 is not the exact square root of 8. If all we cared about was the decimal form of the square root of 8, we would be done.\n",
    "\n",
    "But suppose we want to go further. Recall that √8 = √4· 2 = 2√2. We would have a hard time deducing this from the above result. This is where symbolic computation comes in. With a symbolic computation system like SymPy, square roots of numbers that are not perfect squares are left unevaluated by default"
   ]
  },
  {
   "cell_type": "code",
   "execution_count": null,
   "id": "ca75f75a",
   "metadata": {},
   "outputs": [],
   "source": [
    "import sympy\n",
    "sympy.sqrt(8)"
   ]
  }
 ],
 "metadata": {
  "kernelspec": {
   "display_name": "SimpyUnitn",
   "language": "python",
   "name": "python3"
  },
  "language_info": {
   "codemirror_mode": {
    "name": "ipython",
    "version": 3
   },
   "file_extension": ".py",
   "mimetype": "text/x-python",
   "name": "python",
   "nbconvert_exporter": "python",
   "pygments_lexer": "ipython3",
   "version": "3.12.11"
  }
 },
 "nbformat": 4,
 "nbformat_minor": 5
}
